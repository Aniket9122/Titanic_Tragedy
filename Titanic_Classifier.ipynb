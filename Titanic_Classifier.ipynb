{
 "cells": [
  {
   "cell_type": "markdown",
   "metadata": {},
   "source": [
    "# Machine learning on Tiatnic dataset."
   ]
  },
  {
   "cell_type": "markdown",
   "metadata": {},
   "source": [
    "## 1.Importing libraries"
   ]
  },
  {
   "cell_type": "code",
   "execution_count": 112,
   "metadata": {},
   "outputs": [],
   "source": [
    "import pandas as pd\n",
    "import numpy as np\n",
    "import seaborn as sns\n",
    "from sklearn.preprocessing import MinMaxScaler, StandardScaler\n",
    "from sklearn.model_selection import train_test_split\n",
    "from sklearn.linear_model import LogisticRegression\n",
    "from sklearn.tree import DecisionTreeClassifier\n",
    "from sklearn.ensemble import RandomForestClassifier\n",
    "from sklearn.metrics import confusion_matrix\n",
    "from sklearn.metrics import classification_report\n",
    "from keras import Sequential\n",
    "from keras.layers import Dense\n",
    "from keras.optimizers import Adam\n",
    "from keras.losses import binary_crossentropy\n",
    "from keras.callbacks import ReduceLROnPlateau\n",
    "\n",
    "import matplotlib.pyplot as plt\n",
    "%matplotlib inline"
   ]
  },
  {
   "cell_type": "code",
   "execution_count": 113,
   "metadata": {},
   "outputs": [],
   "source": [
    "data = pd.read_csv('Titanic.csv',index_col='PassengerId')"
   ]
  },
  {
   "cell_type": "code",
   "execution_count": 114,
   "metadata": {},
   "outputs": [
    {
     "data": {
      "text/html": [
       "<div>\n",
       "<style scoped>\n",
       "    .dataframe tbody tr th:only-of-type {\n",
       "        vertical-align: middle;\n",
       "    }\n",
       "\n",
       "    .dataframe tbody tr th {\n",
       "        vertical-align: top;\n",
       "    }\n",
       "\n",
       "    .dataframe thead th {\n",
       "        text-align: right;\n",
       "    }\n",
       "</style>\n",
       "<table border=\"1\" class=\"dataframe\">\n",
       "  <thead>\n",
       "    <tr style=\"text-align: right;\">\n",
       "      <th></th>\n",
       "      <th>Survived</th>\n",
       "      <th>Pclass</th>\n",
       "      <th>Name</th>\n",
       "      <th>Sex</th>\n",
       "      <th>Age</th>\n",
       "      <th>SibSp</th>\n",
       "      <th>Parch</th>\n",
       "      <th>Ticket</th>\n",
       "      <th>Fare</th>\n",
       "      <th>Cabin</th>\n",
       "      <th>Embarked</th>\n",
       "    </tr>\n",
       "    <tr>\n",
       "      <th>PassengerId</th>\n",
       "      <th></th>\n",
       "      <th></th>\n",
       "      <th></th>\n",
       "      <th></th>\n",
       "      <th></th>\n",
       "      <th></th>\n",
       "      <th></th>\n",
       "      <th></th>\n",
       "      <th></th>\n",
       "      <th></th>\n",
       "      <th></th>\n",
       "    </tr>\n",
       "  </thead>\n",
       "  <tbody>\n",
       "    <tr>\n",
       "      <th>1</th>\n",
       "      <td>0</td>\n",
       "      <td>3</td>\n",
       "      <td>Braund, Mr. Owen Harris</td>\n",
       "      <td>male</td>\n",
       "      <td>22.0</td>\n",
       "      <td>1</td>\n",
       "      <td>0</td>\n",
       "      <td>A/5 21171</td>\n",
       "      <td>7.2500</td>\n",
       "      <td>NaN</td>\n",
       "      <td>S</td>\n",
       "    </tr>\n",
       "    <tr>\n",
       "      <th>2</th>\n",
       "      <td>1</td>\n",
       "      <td>1</td>\n",
       "      <td>Cumings, Mrs. John Bradley (Florence Briggs Th...</td>\n",
       "      <td>female</td>\n",
       "      <td>38.0</td>\n",
       "      <td>1</td>\n",
       "      <td>0</td>\n",
       "      <td>PC 17599</td>\n",
       "      <td>71.2833</td>\n",
       "      <td>C85</td>\n",
       "      <td>C</td>\n",
       "    </tr>\n",
       "    <tr>\n",
       "      <th>3</th>\n",
       "      <td>1</td>\n",
       "      <td>3</td>\n",
       "      <td>Heikkinen, Miss. Laina</td>\n",
       "      <td>female</td>\n",
       "      <td>26.0</td>\n",
       "      <td>0</td>\n",
       "      <td>0</td>\n",
       "      <td>STON/O2. 3101282</td>\n",
       "      <td>7.9250</td>\n",
       "      <td>NaN</td>\n",
       "      <td>S</td>\n",
       "    </tr>\n",
       "    <tr>\n",
       "      <th>4</th>\n",
       "      <td>1</td>\n",
       "      <td>1</td>\n",
       "      <td>Futrelle, Mrs. Jacques Heath (Lily May Peel)</td>\n",
       "      <td>female</td>\n",
       "      <td>35.0</td>\n",
       "      <td>1</td>\n",
       "      <td>0</td>\n",
       "      <td>113803</td>\n",
       "      <td>53.1000</td>\n",
       "      <td>C123</td>\n",
       "      <td>S</td>\n",
       "    </tr>\n",
       "    <tr>\n",
       "      <th>5</th>\n",
       "      <td>0</td>\n",
       "      <td>3</td>\n",
       "      <td>Allen, Mr. William Henry</td>\n",
       "      <td>male</td>\n",
       "      <td>35.0</td>\n",
       "      <td>0</td>\n",
       "      <td>0</td>\n",
       "      <td>373450</td>\n",
       "      <td>8.0500</td>\n",
       "      <td>NaN</td>\n",
       "      <td>S</td>\n",
       "    </tr>\n",
       "  </tbody>\n",
       "</table>\n",
       "</div>"
      ],
      "text/plain": [
       "             Survived  Pclass  \\\n",
       "PassengerId                     \n",
       "1                   0       3   \n",
       "2                   1       1   \n",
       "3                   1       3   \n",
       "4                   1       1   \n",
       "5                   0       3   \n",
       "\n",
       "                                                          Name     Sex   Age  \\\n",
       "PassengerId                                                                    \n",
       "1                                      Braund, Mr. Owen Harris    male  22.0   \n",
       "2            Cumings, Mrs. John Bradley (Florence Briggs Th...  female  38.0   \n",
       "3                                       Heikkinen, Miss. Laina  female  26.0   \n",
       "4                 Futrelle, Mrs. Jacques Heath (Lily May Peel)  female  35.0   \n",
       "5                                     Allen, Mr. William Henry    male  35.0   \n",
       "\n",
       "             SibSp  Parch            Ticket     Fare Cabin Embarked  \n",
       "PassengerId                                                          \n",
       "1                1      0         A/5 21171   7.2500   NaN        S  \n",
       "2                1      0          PC 17599  71.2833   C85        C  \n",
       "3                0      0  STON/O2. 3101282   7.9250   NaN        S  \n",
       "4                1      0            113803  53.1000  C123        S  \n",
       "5                0      0            373450   8.0500   NaN        S  "
      ]
     },
     "execution_count": 114,
     "metadata": {},
     "output_type": "execute_result"
    }
   ],
   "source": [
    "data.head()"
   ]
  },
  {
   "cell_type": "markdown",
   "metadata": {},
   "source": [
    "## 2.Identifying dependent and independent variable"
   ]
  },
  {
   "cell_type": "code",
   "execution_count": 4,
   "metadata": {},
   "outputs": [
    {
     "data": {
      "text/plain": [
       "<AxesSubplot:>"
      ]
     },
     "execution_count": 4,
     "metadata": {},
     "output_type": "execute_result"
    },
    {
     "data": {
      "image/png": "[encoded data removed]",
      "text/plain": [
       "<Figure size 432x288 with 2 Axes>"
      ]
     },
     "metadata": {
      "needs_background": "light"
     },
     "output_type": "display_data"
    }
   ],
   "source": [
    "sns.heatmap(data.corr())"
   ]
  },
  {
   "cell_type": "code",
   "execution_count": 115,
   "metadata": {},
   "outputs": [],
   "source": [
    "#Dropping unwanted columns\n",
    "data.drop(['Name','Cabin','Ticket'],axis =1,inplace =True)"
   ]
  },
  {
   "cell_type": "code",
   "execution_count": 116,
   "metadata": {},
   "outputs": [],
   "source": [
    "X = data.iloc[:,1:]\n",
    "Y = data.loc[:,['Survived']]"
   ]
  },
  {
   "cell_type": "markdown",
   "metadata": {},
   "source": [
    "## 3.Understanding data"
   ]
  },
  {
   "cell_type": "code",
   "execution_count": 7,
   "metadata": {},
   "outputs": [
    {
     "data": {
      "text/plain": [
       "<AxesSubplot:xlabel='Sex', ylabel='count'>"
      ]
     },
     "execution_count": 7,
     "metadata": {},
     "output_type": "execute_result"
    },
    {
     "data": {
      "image/png": "[encoded data removed]",
      "text/plain": [
       "<Figure size 432x288 with 1 Axes>"
      ]
     },
     "metadata": {
      "needs_background": "light"
     },
     "output_type": "display_data"
    }
   ],
   "source": [
    "sns.countplot(x='Sex',data = data)"
   ]
  },
  {
   "cell_type": "code",
   "execution_count": 8,
   "metadata": {},
   "outputs": [
    {
     "data": {
      "text/plain": [
       "<AxesSubplot:xlabel='Survived', ylabel='count'>"
      ]
     },
     "execution_count": 8,
     "metadata": {},
     "output_type": "execute_result"
    },
    {
     "data": {
      "image/png": "[encoded data removed]",
      "text/plain": [
       "<Figure size 432x288 with 1 Axes>"
      ]
     },
     "metadata": {
      "needs_background": "light"
     },
     "output_type": "display_data"
    }
   ],
   "source": [
    "sns.countplot(x='Survived',data=data)"
   ]
  },
  {
   "cell_type": "code",
   "execution_count": 9,
   "metadata": {},
   "outputs": [
    {
     "data": {
      "text/plain": [
       "<AxesSubplot:xlabel='Pclass', ylabel='count'>"
      ]
     },
     "execution_count": 9,
     "metadata": {},
     "output_type": "execute_result"
    },
    {
     "data": {
      "image/png": "[encoded data removed]",
      "text/plain": [
       "<Figure size 432x288 with 1 Axes>"
      ]
     },
     "metadata": {
      "needs_background": "light"
     },
     "output_type": "display_data"
    }
   ],
   "source": [
    "sns.countplot(x= 'Pclass',data = data)"
   ]
  },
  {
   "cell_type": "code",
   "execution_count": 10,
   "metadata": {},
   "outputs": [
    {
     "data": {
      "text/plain": [
       "<AxesSubplot:xlabel='Embarked', ylabel='count'>"
      ]
     },
     "execution_count": 10,
     "metadata": {},
     "output_type": "execute_result"
    },
    {
     "data": {
      "image/png": "[encoded data removed]",
      "text/plain": [
       "<Figure size 432x288 with 1 Axes>"
      ]
     },
     "metadata": {
      "needs_background": "light"
     },
     "output_type": "display_data"
    }
   ],
   "source": [
    "sns.countplot(x= 'Embarked',data = data)"
   ]
  },
  {
   "cell_type": "code",
   "execution_count": 11,
   "metadata": {},
   "outputs": [
    {
     "data": {
      "text/plain": [
       "<AxesSubplot:xlabel='Survived', ylabel='count'>"
      ]
     },
     "execution_count": 11,
     "metadata": {},
     "output_type": "execute_result"
    },
    {
     "data": {
      "image/png": "[encoded data removed]",
      "text/plain": [
       "<Figure size 432x288 with 1 Axes>"
      ]
     },
     "metadata": {
      "needs_background": "light"
     },
     "output_type": "display_data"
    }
   ],
   "source": [
    "sns.countplot(x='Survived',hue='Sex',data = data)"
   ]
  },
  {
   "cell_type": "code",
   "execution_count": 12,
   "metadata": {},
   "outputs": [
    {
     "data": {
      "text/plain": [
       "<AxesSubplot:xlabel='Survived', ylabel='count'>"
      ]
     },
     "execution_count": 12,
     "metadata": {},
     "output_type": "execute_result"
    },
    {
     "data": {
      "image/png": "[encoded data removed]",
      "text/plain": [
       "<Figure size 432x288 with 1 Axes>"
      ]
     },
     "metadata": {
      "needs_background": "light"
     },
     "output_type": "display_data"
    }
   ],
   "source": [
    "sns.countplot(x=\"Survived\",hue=\"Pclass\",data=data)"
   ]
  },
  {
   "cell_type": "code",
   "execution_count": 13,
   "metadata": {},
   "outputs": [
    {
     "data": {
      "text/plain": [
       "<AxesSubplot:xlabel='Survived', ylabel='count'>"
      ]
     },
     "execution_count": 13,
     "metadata": {},
     "output_type": "execute_result"
    },
    {
     "data": {
      "image/png": "[encoded data removed]",
      "text/plain": [
       "<Figure size 432x288 with 1 Axes>"
      ]
     },
     "metadata": {
      "needs_background": "light"
     },
     "output_type": "display_data"
    }
   ],
   "source": [
    "sns.countplot(x='Survived',hue='Embarked',data=data)"
   ]
  },
  {
   "cell_type": "markdown",
   "metadata": {},
   "source": [
    "## 4.Data preprocessing"
   ]
  },
  {
   "cell_type": "markdown",
   "metadata": {},
   "source": [
    "### Creating dummy variables"
   ]
  },
  {
   "cell_type": "code",
   "execution_count": 117,
   "metadata": {},
   "outputs": [],
   "source": [
    "X['Sex_male'] = X.loc[:,'Sex'].map({'male' : 1,'female':0})\n",
    "X['Embarked'] = X.loc[:,'Embarked'].map({'S' : int(0),'C':int(1),'Q':int(2)})\n",
    "X.drop(['Sex'],axis=1,inplace = True)"
   ]
  },
  {
   "cell_type": "markdown",
   "metadata": {},
   "source": [
    "### Treating missing values"
   ]
  },
  {
   "cell_type": "code",
   "execution_count": 118,
   "metadata": {},
   "outputs": [
    {
     "data": {
      "text/plain": [
       "Pclass        0\n",
       "Age         177\n",
       "SibSp         0\n",
       "Parch         0\n",
       "Fare          0\n",
       "Embarked      2\n",
       "Sex_male      0\n",
       "dtype: int64"
      ]
     },
     "execution_count": 118,
     "metadata": {},
     "output_type": "execute_result"
    }
   ],
   "source": [
    "X.isnull().sum()"
   ]
  },
  {
   "cell_type": "code",
   "execution_count": 119,
   "metadata": {},
   "outputs": [],
   "source": [
    "X['Embarked'] = X['Embarked'].fillna(value =0)"
   ]
  },
  {
   "cell_type": "code",
   "execution_count": 120,
   "metadata": {},
   "outputs": [
    {
     "name": "stderr",
     "output_type": "stream",
     "text": [
      "C:\\Users\\ANIKET\\anaconda3\\envs\\NeuralNet\\lib\\site-packages\\pandas\\core\\indexing.py:1787: SettingWithCopyWarning: \n",
      "A value is trying to be set on a copy of a slice from a DataFrame.\n",
      "Try using .loc[row_indexer,col_indexer] = value instead\n",
      "\n",
      "See the caveats in the documentation: https://pandas.pydata.org/pandas-docs/stable/user_guide/indexing.html#returning-a-view-versus-a-copy\n",
      "  self._setitem_single_column(loc, val, pi)\n"
     ]
    }
   ],
   "source": [
    "df = X[X['Pclass'] == 1]\n",
    "df.loc[:,['Age']] = df.loc[:,['Age']].fillna(value = df.loc[:,['Age']].mean())\n",
    "X[X['Pclass'] == 1] = df"
   ]
  },
  {
   "cell_type": "code",
   "execution_count": 121,
   "metadata": {},
   "outputs": [
    {
     "name": "stderr",
     "output_type": "stream",
     "text": [
      "C:\\Users\\ANIKET\\anaconda3\\envs\\NeuralNet\\lib\\site-packages\\pandas\\core\\indexing.py:1787: SettingWithCopyWarning: \n",
      "A value is trying to be set on a copy of a slice from a DataFrame.\n",
      "Try using .loc[row_indexer,col_indexer] = value instead\n",
      "\n",
      "See the caveats in the documentation: https://pandas.pydata.org/pandas-docs/stable/user_guide/indexing.html#returning-a-view-versus-a-copy\n",
      "  self._setitem_single_column(loc, val, pi)\n"
     ]
    }
   ],
   "source": [
    "df = X[X['Pclass'] == 2]\n",
    "df.loc[:,['Age']] = df.loc[:,['Age']].fillna(value = df.loc[:,['Age']].mean())\n",
    "X[X['Pclass'] == 2] = df"
   ]
  },
  {
   "cell_type": "code",
   "execution_count": 122,
   "metadata": {},
   "outputs": [
    {
     "name": "stderr",
     "output_type": "stream",
     "text": [
      "C:\\Users\\ANIKET\\anaconda3\\envs\\NeuralNet\\lib\\site-packages\\pandas\\core\\indexing.py:1787: SettingWithCopyWarning: \n",
      "A value is trying to be set on a copy of a slice from a DataFrame.\n",
      "Try using .loc[row_indexer,col_indexer] = value instead\n",
      "\n",
      "See the caveats in the documentation: https://pandas.pydata.org/pandas-docs/stable/user_guide/indexing.html#returning-a-view-versus-a-copy\n",
      "  self._setitem_single_column(loc, val, pi)\n"
     ]
    }
   ],
   "source": [
    "df = X[X['Pclass'] == 3]\n",
    "df.loc[:,['Age']] = df.loc[:,['Age']].fillna(value = df.loc[:,['Age']].mean())\n",
    "X[X['Pclass'] == 3] = df"
   ]
  },
  {
   "cell_type": "code",
   "execution_count": 123,
   "metadata": {},
   "outputs": [
    {
     "data": {
      "text/plain": [
       "Pclass      0\n",
       "Age         0\n",
       "SibSp       0\n",
       "Parch       0\n",
       "Fare        0\n",
       "Embarked    0\n",
       "Sex_male    0\n",
       "dtype: int64"
      ]
     },
     "execution_count": 123,
     "metadata": {},
     "output_type": "execute_result"
    }
   ],
   "source": [
    "X.isnull().sum()"
   ]
  },
  {
   "cell_type": "markdown",
   "metadata": {},
   "source": [
    "### Removing Outliers"
   ]
  },
  {
   "cell_type": "code",
   "execution_count": 124,
   "metadata": {},
   "outputs": [
    {
     "data": {
      "text/plain": [
       "<AxesSubplot:xlabel='Pclass', ylabel='Age'>"
      ]
     },
     "execution_count": 124,
     "metadata": {},
     "output_type": "execute_result"
    },
    {
     "data": {
      "image/png": "[encoded data removed]",
      "text/plain": [
       "<Figure size 432x288 with 1 Axes>"
      ]
     },
     "metadata": {
      "needs_background": "light"
     },
     "output_type": "display_data"
    }
   ],
   "source": [
    "sns.boxplot(x=X['Pclass'],y=X['Age'])"
   ]
  },
  {
   "cell_type": "code",
   "execution_count": 125,
   "metadata": {},
   "outputs": [
    {
     "name": "stdout",
     "output_type": "stream",
     "text": [
      "74.625 1.625\n",
      "0.00     0.92\n",
      "0.01     5.05\n",
      "0.02    14.30\n",
      "0.03    16.00\n",
      "0.04    16.60\n",
      "        ...  \n",
      "0.95    62.00\n",
      "0.96    62.40\n",
      "0.97    64.00\n",
      "0.98    65.00\n",
      "0.99    70.85\n",
      "Name: Age, Length: 100, dtype: float64\n"
     ]
    }
   ],
   "source": [
    "df = X[X['Pclass'] == 1]\n",
    "IQR = df['Age'].quantile(0.75) - df['Age'].quantile(0.25)\n",
    "upper = df['Age'].quantile(0.75) + 1.5*IQR\n",
    "lower = df['Age'].quantile(0.25) - 1.5*IQR\n",
    "print(upper,lower)\n",
    "print(df['Age'].quantile(np.arange(0,1,0.01)))"
   ]
  },
  {
   "cell_type": "code",
   "execution_count": 126,
   "metadata": {},
   "outputs": [
    {
     "name": "stderr",
     "output_type": "stream",
     "text": [
      "C:\\Users\\ANIKET\\anaconda3\\envs\\NeuralNet\\lib\\site-packages\\pandas\\core\\indexing.py:1720: SettingWithCopyWarning: \n",
      "A value is trying to be set on a copy of a slice from a DataFrame.\n",
      "Try using .loc[row_indexer,col_indexer] = value instead\n",
      "\n",
      "See the caveats in the documentation: https://pandas.pydata.org/pandas-docs/stable/user_guide/indexing.html#returning-a-view-versus-a-copy\n",
      "  self._setitem_single_column(loc, value, pi)\n",
      "C:\\Users\\ANIKET\\anaconda3\\envs\\NeuralNet\\lib\\site-packages\\seaborn\\_decorators.py:36: FutureWarning: Pass the following variable as a keyword arg: x. From version 0.12, the only valid positional argument will be `data`, and passing other arguments without an explicit keyword will result in an error or misinterpretation.\n",
      "  warnings.warn(\n"
     ]
    },
    {
     "data": {
      "text/plain": [
       "<AxesSubplot:xlabel='Age'>"
      ]
     },
     "execution_count": 126,
     "metadata": {},
     "output_type": "execute_result"
    },
    {
     "data": {
      "image/png": "[encoded data removed]",
      "text/plain": [
       "<Figure size 432x288 with 1 Axes>"
      ]
     },
     "metadata": {
      "needs_background": "light"
     },
     "output_type": "display_data"
    }
   ],
   "source": [
    "filt1 = df['Age'] <= lower\n",
    "filt2 = df['Age'] >= upper\n",
    "\n",
    "df.loc[filt1,['Age']] = df['Age'].quantile(0.01)\n",
    "df.loc[filt2,['Age']] = df['Age'].quantile(0.99)\n",
    "\n",
    "sns.boxplot(df.Age)"
   ]
  },
  {
   "cell_type": "code",
   "execution_count": 127,
   "metadata": {},
   "outputs": [],
   "source": [
    "X[X['Pclass'] == 1] = df"
   ]
  },
  {
   "cell_type": "code",
   "execution_count": 128,
   "metadata": {
    "scrolled": true
   },
   "outputs": [
    {
     "name": "stdout",
     "output_type": "stream",
     "text": [
      "55.5 3.5\n",
      "0.00     0.670000\n",
      "0.02     1.000000\n",
      "0.04     3.000000\n",
      "0.06     4.000000\n",
      "0.08     7.640000\n",
      "0.10    14.600000\n",
      "0.12    17.000000\n",
      "0.14    18.000000\n",
      "0.16    19.000000\n",
      "0.18    19.000000\n",
      "0.20    21.000000\n",
      "0.22    22.260000\n",
      "0.24    23.000000\n",
      "0.26    23.580000\n",
      "0.28    24.000000\n",
      "0.30    24.000000\n",
      "0.32    25.000000\n",
      "0.34    25.000000\n",
      "0.36    26.000000\n",
      "0.38    27.000000\n",
      "0.40    28.000000\n",
      "0.42    28.000000\n",
      "0.44    28.000000\n",
      "0.46    29.000000\n",
      "0.48    29.737209\n",
      "0.50    29.877630\n",
      "0.52    29.877630\n",
      "0.54    29.977973\n",
      "0.56    30.000000\n",
      "0.58    30.140000\n",
      "0.60    31.000000\n",
      "0.62    32.000000\n",
      "0.64    32.560000\n",
      "0.66    33.780000\n",
      "0.68    34.000000\n",
      "0.70    34.000000\n",
      "0.72    35.000000\n",
      "0.74    36.000000\n",
      "0.76    36.000000\n",
      "0.78    37.740000\n",
      "0.80    39.400000\n",
      "0.82    41.060000\n",
      "0.84    42.000000\n",
      "0.86    44.000000\n",
      "0.88    46.040000\n",
      "0.90    49.400000\n",
      "0.92    50.360000\n",
      "0.94    54.000000\n",
      "0.96    54.680000\n",
      "0.98    59.340000\n",
      "Name: Age, dtype: float64\n"
     ]
    }
   ],
   "source": [
    "df = X[X['Pclass'] == 2]\n",
    "IQR = df['Age'].quantile(0.75) - df['Age'].quantile(0.25)\n",
    "upper = df['Age'].quantile(0.75) + 1.5*IQR\n",
    "lower = df['Age'].quantile(0.25) - 1.5*IQR\n",
    "print(upper,lower)\n",
    "print(df['Age'].quantile(np.arange(0,1,0.02)))"
   ]
  },
  {
   "cell_type": "code",
   "execution_count": 129,
   "metadata": {},
   "outputs": [
    {
     "name": "stderr",
     "output_type": "stream",
     "text": [
      "C:\\Users\\ANIKET\\anaconda3\\envs\\NeuralNet\\lib\\site-packages\\pandas\\core\\indexing.py:1720: SettingWithCopyWarning: \n",
      "A value is trying to be set on a copy of a slice from a DataFrame.\n",
      "Try using .loc[row_indexer,col_indexer] = value instead\n",
      "\n",
      "See the caveats in the documentation: https://pandas.pydata.org/pandas-docs/stable/user_guide/indexing.html#returning-a-view-versus-a-copy\n",
      "  self._setitem_single_column(loc, value, pi)\n",
      "C:\\Users\\ANIKET\\anaconda3\\envs\\NeuralNet\\lib\\site-packages\\seaborn\\_decorators.py:36: FutureWarning: Pass the following variable as a keyword arg: x. From version 0.12, the only valid positional argument will be `data`, and passing other arguments without an explicit keyword will result in an error or misinterpretation.\n",
      "  warnings.warn(\n"
     ]
    },
    {
     "data": {
      "text/plain": [
       "<AxesSubplot:xlabel='Age'>"
      ]
     },
     "execution_count": 129,
     "metadata": {},
     "output_type": "execute_result"
    },
    {
     "data": {
      "image/png": "[encoded data removed]",
      "text/plain": [
       "<Figure size 432x288 with 1 Axes>"
      ]
     },
     "metadata": {
      "needs_background": "light"
     },
     "output_type": "display_data"
    }
   ],
   "source": [
    "filt1 = df['Age'] <= lower\n",
    "filt2 = df['Age'] >= upper\n",
    "\n",
    "df.loc[filt1,['Age']] = df['Age'].quantile(0.06)\n",
    "df.loc[filt2,['Age']] = df['Age'].quantile(0.96)\n",
    "\n",
    "sns.boxplot(df.Age)"
   ]
  },
  {
   "cell_type": "code",
   "execution_count": 130,
   "metadata": {},
   "outputs": [],
   "source": [
    "X[X['Pclass'] == 2] = df"
   ]
  },
  {
   "cell_type": "code",
   "execution_count": 131,
   "metadata": {
    "scrolled": true
   },
   "outputs": [
    {
     "name": "stdout",
     "output_type": "stream",
     "text": [
      "42.125 7.125\n",
      "0.00     0.42000\n",
      "0.02     2.00000\n",
      "0.04     4.00000\n",
      "0.06     6.40000\n",
      "0.08     9.00000\n",
      "0.10    14.00000\n",
      "0.12    16.00000\n",
      "0.14    16.00000\n",
      "0.16    18.00000\n",
      "0.18    18.00000\n",
      "0.20    19.00000\n",
      "0.22    19.80000\n",
      "0.24    20.00000\n",
      "0.26    21.00000\n",
      "0.28    21.00000\n",
      "0.30    22.00000\n",
      "0.32    22.00000\n",
      "0.34    23.80000\n",
      "0.36    24.00000\n",
      "0.38    25.00000\n",
      "0.40    25.14062\n",
      "0.42    25.14062\n",
      "0.44    25.14062\n",
      "0.46    25.14062\n",
      "0.48    25.14062\n",
      "0.50    25.14062\n",
      "0.52    25.14062\n",
      "0.54    25.14062\n",
      "0.56    25.14062\n",
      "0.58    25.14062\n",
      "0.60    25.14062\n",
      "0.62    25.14062\n",
      "0.64    25.14062\n",
      "0.66    25.14062\n",
      "0.68    26.00000\n",
      "0.70    26.00000\n",
      "0.72    28.00000\n",
      "0.74    28.00000\n",
      "0.76    29.00000\n",
      "0.78    30.00000\n",
      "0.80    31.00000\n",
      "0.82    32.00000\n",
      "0.84    33.00000\n",
      "0.86    34.70000\n",
      "0.88    36.00000\n",
      "0.90    39.00000\n",
      "0.92    40.40000\n",
      "0.94    42.60000\n",
      "0.96    45.00000\n",
      "0.98    50.20000\n",
      "Name: Age, dtype: float64\n"
     ]
    }
   ],
   "source": [
    "df = X[X['Pclass'] == 3]\n",
    "IQR = df['Age'].quantile(0.75) - df['Age'].quantile(0.25)\n",
    "upper = df['Age'].quantile(0.75) + 1.5*IQR\n",
    "lower = df['Age'].quantile(0.25) - 1.5*IQR\n",
    "print(upper,lower)\n",
    "print(df['Age'].quantile(np.arange(0,1,0.02)))"
   ]
  },
  {
   "cell_type": "code",
   "execution_count": 132,
   "metadata": {},
   "outputs": [
    {
     "name": "stderr",
     "output_type": "stream",
     "text": [
      "C:\\Users\\ANIKET\\anaconda3\\envs\\NeuralNet\\lib\\site-packages\\pandas\\core\\indexing.py:1720: SettingWithCopyWarning: \n",
      "A value is trying to be set on a copy of a slice from a DataFrame.\n",
      "Try using .loc[row_indexer,col_indexer] = value instead\n",
      "\n",
      "See the caveats in the documentation: https://pandas.pydata.org/pandas-docs/stable/user_guide/indexing.html#returning-a-view-versus-a-copy\n",
      "  self._setitem_single_column(loc, value, pi)\n",
      "C:\\Users\\ANIKET\\anaconda3\\envs\\NeuralNet\\lib\\site-packages\\seaborn\\_decorators.py:36: FutureWarning: Pass the following variable as a keyword arg: x. From version 0.12, the only valid positional argument will be `data`, and passing other arguments without an explicit keyword will result in an error or misinterpretation.\n",
      "  warnings.warn(\n"
     ]
    },
    {
     "data": {
      "text/plain": [
       "<AxesSubplot:xlabel='Age'>"
      ]
     },
     "execution_count": 132,
     "metadata": {},
     "output_type": "execute_result"
    },
    {
     "data": {
      "image/png": "[encoded data removed]",
      "text/plain": [
       "<Figure size 432x288 with 1 Axes>"
      ]
     },
     "metadata": {
      "needs_background": "light"
     },
     "output_type": "display_data"
    }
   ],
   "source": [
    "filt1 = df['Age'] <= lower\n",
    "filt2 = df['Age'] >= upper\n",
    "\n",
    "df.loc[filt1,['Age']] = df['Age'].quantile(0.08)\n",
    "df.loc[filt2,['Age']] = df['Age'].quantile(0.95)\n",
    "\n",
    "sns.boxplot(df.Age)"
   ]
  },
  {
   "cell_type": "code",
   "execution_count": 133,
   "metadata": {},
   "outputs": [],
   "source": [
    "X[X['Pclass'] == 3] = df"
   ]
  },
  {
   "cell_type": "code",
   "execution_count": 134,
   "metadata": {},
   "outputs": [
    {
     "data": {
      "text/plain": [
       "<AxesSubplot:xlabel='Pclass', ylabel='Age'>"
      ]
     },
     "execution_count": 134,
     "metadata": {},
     "output_type": "execute_result"
    },
    {
     "data": {
      "image/png": "[encoded data removed]",
      "text/plain": [
       "<Figure size 432x288 with 1 Axes>"
      ]
     },
     "metadata": {
      "needs_background": "light"
     },
     "output_type": "display_data"
    }
   ],
   "source": [
    "sns.boxplot(x=X['Pclass'],y=X['Age'])"
   ]
  },
  {
   "cell_type": "code",
   "execution_count": 135,
   "metadata": {},
   "outputs": [],
   "source": [
    "data1 = X.copy()"
   ]
  },
  {
   "cell_type": "markdown",
   "metadata": {},
   "source": [
    "### Scaling the data "
   ]
  },
  {
   "cell_type": "code",
   "execution_count": 136,
   "metadata": {},
   "outputs": [],
   "source": [
    "scaler = MinMaxScaler()\n",
    "X = scaler.fit_transform(X)"
   ]
  },
  {
   "cell_type": "markdown",
   "metadata": {},
   "source": [
    "### test-train-split "
   ]
  },
  {
   "cell_type": "code",
   "execution_count": 137,
   "metadata": {},
   "outputs": [],
   "source": [
    "x_train,x_test,y_train,y_test = train_test_split(X,Y,test_size=0.02)"
   ]
  },
  {
   "cell_type": "markdown",
   "metadata": {},
   "source": [
    "## 5.Building ML models. "
   ]
  },
  {
   "cell_type": "markdown",
   "metadata": {},
   "source": [
    "### Linear-regression model"
   ]
  },
  {
   "cell_type": "code",
   "execution_count": 138,
   "metadata": {},
   "outputs": [
    {
     "name": "stderr",
     "output_type": "stream",
     "text": [
      "C:\\Users\\ANIKET\\anaconda3\\envs\\NeuralNet\\lib\\site-packages\\sklearn\\utils\\validation.py:63: DataConversionWarning: A column-vector y was passed when a 1d array was expected. Please change the shape of y to (n_samples, ), for example using ravel().\n",
      "  return f(*args, **kwargs)\n"
     ]
    }
   ],
   "source": [
    "model = LogisticRegression()\n",
    "model.fit(x_train,y_train)\n",
    "test_pred = model.predict(x_test)\n",
    "regression_model = classification_report(y_test,test_pred)"
   ]
  },
  {
   "cell_type": "markdown",
   "metadata": {},
   "source": [
    "## DecisionTree model"
   ]
  },
  {
   "cell_type": "code",
   "execution_count": 139,
   "metadata": {},
   "outputs": [],
   "source": [
    "#For Tree model droping the age and fare column\n",
    "data1.drop(['Age','Fare'],axis = 1,inplace = True)"
   ]
  },
  {
   "cell_type": "code",
   "execution_count": 140,
   "metadata": {},
   "outputs": [
    {
     "data": {
      "text/html": [
       "<div>\n",
       "<style scoped>\n",
       "    .dataframe tbody tr th:only-of-type {\n",
       "        vertical-align: middle;\n",
       "    }\n",
       "\n",
       "    .dataframe tbody tr th {\n",
       "        vertical-align: top;\n",
       "    }\n",
       "\n",
       "    .dataframe thead th {\n",
       "        text-align: right;\n",
       "    }\n",
       "</style>\n",
       "<table border=\"1\" class=\"dataframe\">\n",
       "  <thead>\n",
       "    <tr style=\"text-align: right;\">\n",
       "      <th></th>\n",
       "      <th>Pclass</th>\n",
       "      <th>SibSp</th>\n",
       "      <th>Parch</th>\n",
       "      <th>Embarked</th>\n",
       "      <th>Sex_male</th>\n",
       "    </tr>\n",
       "    <tr>\n",
       "      <th>PassengerId</th>\n",
       "      <th></th>\n",
       "      <th></th>\n",
       "      <th></th>\n",
       "      <th></th>\n",
       "      <th></th>\n",
       "    </tr>\n",
       "  </thead>\n",
       "  <tbody>\n",
       "    <tr>\n",
       "      <th>1</th>\n",
       "      <td>3</td>\n",
       "      <td>1</td>\n",
       "      <td>0</td>\n",
       "      <td>0.0</td>\n",
       "      <td>1</td>\n",
       "    </tr>\n",
       "    <tr>\n",
       "      <th>2</th>\n",
       "      <td>1</td>\n",
       "      <td>1</td>\n",
       "      <td>0</td>\n",
       "      <td>1.0</td>\n",
       "      <td>0</td>\n",
       "    </tr>\n",
       "    <tr>\n",
       "      <th>3</th>\n",
       "      <td>3</td>\n",
       "      <td>0</td>\n",
       "      <td>0</td>\n",
       "      <td>0.0</td>\n",
       "      <td>0</td>\n",
       "    </tr>\n",
       "    <tr>\n",
       "      <th>4</th>\n",
       "      <td>1</td>\n",
       "      <td>1</td>\n",
       "      <td>0</td>\n",
       "      <td>0.0</td>\n",
       "      <td>0</td>\n",
       "    </tr>\n",
       "    <tr>\n",
       "      <th>5</th>\n",
       "      <td>3</td>\n",
       "      <td>0</td>\n",
       "      <td>0</td>\n",
       "      <td>0.0</td>\n",
       "      <td>1</td>\n",
       "    </tr>\n",
       "  </tbody>\n",
       "</table>\n",
       "</div>"
      ],
      "text/plain": [
       "             Pclass  SibSp  Parch  Embarked  Sex_male\n",
       "PassengerId                                          \n",
       "1                 3      1      0       0.0         1\n",
       "2                 1      1      0       1.0         0\n",
       "3                 3      0      0       0.0         0\n",
       "4                 1      1      0       0.0         0\n",
       "5                 3      0      0       0.0         1"
      ]
     },
     "execution_count": 140,
     "metadata": {},
     "output_type": "execute_result"
    }
   ],
   "source": [
    "data1.head()"
   ]
  },
  {
   "cell_type": "code",
   "execution_count": 141,
   "metadata": {},
   "outputs": [],
   "source": [
    "Y = data1.iloc[:,0].values\n",
    "X = data1.iloc[:,1:].values\n",
    "X_train,X_test,Y_train,Y_test = train_test_split(X,Y,test_size=0.10)"
   ]
  },
  {
   "cell_type": "code",
   "execution_count": 142,
   "metadata": {},
   "outputs": [],
   "source": [
    "tree = DecisionTreeClassifier()\n",
    "tree.fit(X_train,Y_train)\n",
    "Y_pred = tree.predict(X_test)\n",
    "tree_model = classification_report(Y_test,Y_pred)"
   ]
  },
  {
   "cell_type": "markdown",
   "metadata": {},
   "source": [
    "## RandomForest model"
   ]
  },
  {
   "cell_type": "code",
   "execution_count": 143,
   "metadata": {},
   "outputs": [
    {
     "name": "stderr",
     "output_type": "stream",
     "text": [
      "<ipython-input-143-8093e0084328>:2: DataConversionWarning: A column-vector y was passed when a 1d array was expected. Please change the shape of y to (n_samples,), for example using ravel().\n",
      "  forest.fit(x_train,y_train)\n"
     ]
    }
   ],
   "source": [
    "forest = RandomForestClassifier()\n",
    "forest.fit(x_train,y_train)\n",
    "y_pred = forest.predict(x_test)\n",
    "random_forest_model = classification_report(y_test,y_pred)"
   ]
  },
  {
   "cell_type": "markdown",
   "metadata": {},
   "source": [
    "## Artificial Neural Network"
   ]
  },
  {
   "cell_type": "code",
   "execution_count": 146,
   "metadata": {},
   "outputs": [],
   "source": [
    "model = Sequential([\n",
    "    Dense(16,input_shape=(7,), activation='relu'),\n",
    "    Dense(32,activation='relu'),\n",
    "    Dense(32,activation='relu'),\n",
    "    Dense(7,activation='relu'),\n",
    "    Dense(1,activation='sigmoid'),\n",
    "])"
   ]
  },
  {
   "cell_type": "code",
   "execution_count": 147,
   "metadata": {},
   "outputs": [],
   "source": [
    "rlp = ReduceLROnPlateau(monitor='loss',patience=5,factor=0.1)"
   ]
  },
  {
   "cell_type": "code",
   "execution_count": 150,
   "metadata": {
    "scrolled": true
   },
   "outputs": [
    {
     "name": "stdout",
     "output_type": "stream",
     "text": [
      "Epoch 1/500\n",
      "28/28 [==============================] - 1s 5ms/step - loss: 0.4195 - accuracy: 0.8304\n",
      "Epoch 2/500\n",
      "28/28 [==============================] - 0s 5ms/step - loss: 0.3764 - accuracy: 0.8504\n",
      "Epoch 3/500\n",
      "28/28 [==============================] - 0s 5ms/step - loss: 0.4359 - accuracy: 0.8180\n",
      "Epoch 4/500\n",
      "28/28 [==============================] - 0s 5ms/step - loss: 0.4446 - accuracy: 0.8119\n",
      "Epoch 5/500\n",
      "28/28 [==============================] - 0s 6ms/step - loss: 0.3973 - accuracy: 0.8334\n",
      "Epoch 6/500\n",
      "28/28 [==============================] - 0s 5ms/step - loss: 0.4012 - accuracy: 0.8284\n",
      "Epoch 7/500\n",
      "28/28 [==============================] - 0s 5ms/step - loss: 0.3950 - accuracy: 0.8427\n",
      "Epoch 8/500\n",
      "28/28 [==============================] - 0s 5ms/step - loss: 0.4169 - accuracy: 0.8225\n",
      "Epoch 9/500\n",
      "28/28 [==============================] - 0s 5ms/step - loss: 0.4012 - accuracy: 0.8387\n",
      "Epoch 10/500\n",
      "28/28 [==============================] - 0s 5ms/step - loss: 0.4022 - accuracy: 0.8398\n",
      "Epoch 11/500\n",
      "28/28 [==============================] - 0s 5ms/step - loss: 0.4098 - accuracy: 0.8305\n",
      "Epoch 12/500\n",
      "28/28 [==============================] - 0s 6ms/step - loss: 0.4081 - accuracy: 0.8298\n",
      "Epoch 13/500\n",
      "28/28 [==============================] - 0s 5ms/step - loss: 0.4038 - accuracy: 0.8318\n",
      "Epoch 14/500\n",
      "28/28 [==============================] - 0s 5ms/step - loss: 0.4127 - accuracy: 0.8270\n",
      "Epoch 15/500\n",
      "28/28 [==============================] - 0s 6ms/step - loss: 0.4012 - accuracy: 0.8239\n",
      "Epoch 16/500\n",
      "28/28 [==============================] - 0s 5ms/step - loss: 0.4264 - accuracy: 0.8070\n",
      "Epoch 17/500\n",
      "28/28 [==============================] - 0s 5ms/step - loss: 0.3962 - accuracy: 0.8288\n",
      "Epoch 18/500\n",
      "28/28 [==============================] - 0s 5ms/step - loss: 0.4146 - accuracy: 0.8232\n",
      "Epoch 19/500\n",
      "28/28 [==============================] - 0s 5ms/step - loss: 0.4285 - accuracy: 0.8204\n",
      "Epoch 20/500\n",
      "28/28 [==============================] - 0s 5ms/step - loss: 0.4082 - accuracy: 0.8316\n",
      "Epoch 21/500\n",
      "28/28 [==============================] - 0s 5ms/step - loss: 0.4029 - accuracy: 0.8313\n",
      "Epoch 22/500\n",
      "28/28 [==============================] - 0s 5ms/step - loss: 0.3968 - accuracy: 0.8416\n",
      "Epoch 23/500\n",
      "28/28 [==============================] - 0s 5ms/step - loss: 0.3892 - accuracy: 0.8319\n",
      "Epoch 24/500\n",
      "28/28 [==============================] - ETA: 0s - loss: 0.4100 - accuracy: 0.83 - 0s 5ms/step - loss: 0.4077 - accuracy: 0.8385\n",
      "Epoch 25/500\n",
      "28/28 [==============================] - 0s 6ms/step - loss: 0.4066 - accuracy: 0.8225\n",
      "Epoch 26/500\n",
      "28/28 [==============================] - 0s 5ms/step - loss: 0.3853 - accuracy: 0.8381\n",
      "Epoch 27/500\n",
      "28/28 [==============================] - 0s 5ms/step - loss: 0.4067 - accuracy: 0.8245\n",
      "Epoch 28/500\n",
      "28/28 [==============================] - 0s 6ms/step - loss: 0.4092 - accuracy: 0.8263\n",
      "Epoch 29/500\n",
      "28/28 [==============================] - 0s 5ms/step - loss: 0.3949 - accuracy: 0.8404\n",
      "Epoch 30/500\n",
      "28/28 [==============================] - 0s 5ms/step - loss: 0.3987 - accuracy: 0.8272\n",
      "Epoch 31/500\n",
      "28/28 [==============================] - 0s 5ms/step - loss: 0.3967 - accuracy: 0.8309\n",
      "Epoch 32/500\n",
      "28/28 [==============================] - 0s 6ms/step - loss: 0.4124 - accuracy: 0.8269\n",
      "Epoch 33/500\n",
      "28/28 [==============================] - 0s 6ms/step - loss: 0.3793 - accuracy: 0.8514\n",
      "Epoch 34/500\n",
      "28/28 [==============================] - 0s 5ms/step - loss: 0.3943 - accuracy: 0.8499\n",
      "Epoch 35/500\n",
      "28/28 [==============================] - 0s 6ms/step - loss: 0.3856 - accuracy: 0.8447\n",
      "Epoch 36/500\n",
      "28/28 [==============================] - 0s 5ms/step - loss: 0.3903 - accuracy: 0.8417\n",
      "Epoch 37/500\n",
      "28/28 [==============================] - 0s 5ms/step - loss: 0.3869 - accuracy: 0.8532\n",
      "Epoch 38/500\n",
      "28/28 [==============================] - 0s 6ms/step - loss: 0.4104 - accuracy: 0.8205\n",
      "Epoch 39/500\n",
      "28/28 [==============================] - 0s 5ms/step - loss: 0.3809 - accuracy: 0.8419\n",
      "Epoch 40/500\n",
      "28/28 [==============================] - 0s 5ms/step - loss: 0.3858 - accuracy: 0.8313\n",
      "Epoch 41/500\n",
      "28/28 [==============================] - 0s 5ms/step - loss: 0.4051 - accuracy: 0.8269\n",
      "Epoch 42/500\n",
      "28/28 [==============================] - 0s 5ms/step - loss: 0.3717 - accuracy: 0.8504\n",
      "Epoch 43/500\n",
      "28/28 [==============================] - 0s 5ms/step - loss: 0.3754 - accuracy: 0.8565\n",
      "Epoch 44/500\n",
      "28/28 [==============================] - 0s 6ms/step - loss: 0.3799 - accuracy: 0.8530\n",
      "Epoch 45/500\n",
      "28/28 [==============================] - 0s 5ms/step - loss: 0.3911 - accuracy: 0.8355\n",
      "Epoch 46/500\n",
      "28/28 [==============================] - 0s 5ms/step - loss: 0.4105 - accuracy: 0.8340\n",
      "Epoch 47/500\n",
      "28/28 [==============================] - 0s 6ms/step - loss: 0.3743 - accuracy: 0.8463\n",
      "Epoch 48/500\n",
      "28/28 [==============================] - 0s 5ms/step - loss: 0.4122 - accuracy: 0.8220\n",
      "Epoch 49/500\n",
      "28/28 [==============================] - 0s 6ms/step - loss: 0.3785 - accuracy: 0.8450\n",
      "Epoch 50/500\n",
      "28/28 [==============================] - 0s 5ms/step - loss: 0.3936 - accuracy: 0.8499\n",
      "Epoch 51/500\n",
      "28/28 [==============================] - 0s 6ms/step - loss: 0.3911 - accuracy: 0.8521\n",
      "Epoch 52/500\n",
      "28/28 [==============================] - 0s 5ms/step - loss: 0.3547 - accuracy: 0.8685\n",
      "Epoch 53/500\n",
      "28/28 [==============================] - 0s 5ms/step - loss: 0.3767 - accuracy: 0.8439\n",
      "Epoch 54/500\n",
      "28/28 [==============================] - 0s 6ms/step - loss: 0.3744 - accuracy: 0.8472\n",
      "Epoch 55/500\n",
      "28/28 [==============================] - 0s 5ms/step - loss: 0.3689 - accuracy: 0.8577\n",
      "Epoch 56/500\n",
      "28/28 [==============================] - 0s 6ms/step - loss: 0.3642 - accuracy: 0.8504\n",
      "Epoch 57/500\n",
      "28/28 [==============================] - 0s 5ms/step - loss: 0.3577 - accuracy: 0.8644\n",
      "Epoch 58/500\n",
      "28/28 [==============================] - 0s 6ms/step - loss: 0.4202 - accuracy: 0.8245\n",
      "Epoch 59/500\n",
      "28/28 [==============================] - 0s 5ms/step - loss: 0.3665 - accuracy: 0.8601\n",
      "Epoch 60/500\n",
      "28/28 [==============================] - 0s 5ms/step - loss: 0.4092 - accuracy: 0.8350\n",
      "Epoch 61/500\n",
      "28/28 [==============================] - 0s 6ms/step - loss: 0.4008 - accuracy: 0.8365\n",
      "Epoch 62/500\n",
      "28/28 [==============================] - 0s 5ms/step - loss: 0.3726 - accuracy: 0.8486\n",
      "Epoch 63/500\n",
      "28/28 [==============================] - 0s 5ms/step - loss: 0.3734 - accuracy: 0.8584\n",
      "Epoch 64/500\n",
      "28/28 [==============================] - 0s 6ms/step - loss: 0.3694 - accuracy: 0.8545\n",
      "Epoch 65/500\n",
      "28/28 [==============================] - 0s 6ms/step - loss: 0.3941 - accuracy: 0.8276\n",
      "Epoch 66/500\n",
      "28/28 [==============================] - 0s 5ms/step - loss: 0.3817 - accuracy: 0.8531\n",
      "Epoch 67/500\n",
      "28/28 [==============================] - 0s 5ms/step - loss: 0.3701 - accuracy: 0.8544\n",
      "Epoch 68/500\n",
      "28/28 [==============================] - 0s 5ms/step - loss: 0.4222 - accuracy: 0.8331\n",
      "Epoch 69/500\n",
      "28/28 [==============================] - 0s 5ms/step - loss: 0.3961 - accuracy: 0.8349\n",
      "Epoch 70/500\n",
      "28/28 [==============================] - 0s 5ms/step - loss: 0.4077 - accuracy: 0.8342\n",
      "Epoch 71/500\n",
      "28/28 [==============================] - 0s 5ms/step - loss: 0.3692 - accuracy: 0.8578\n",
      "Epoch 72/500\n",
      "28/28 [==============================] - 0s 5ms/step - loss: 0.4063 - accuracy: 0.8288\n",
      "Epoch 73/500\n",
      "28/28 [==============================] - 0s 5ms/step - loss: 0.3773 - accuracy: 0.8542\n",
      "Epoch 74/500\n",
      "28/28 [==============================] - 0s 5ms/step - loss: 0.3833 - accuracy: 0.8495\n",
      "Epoch 75/500\n",
      "28/28 [==============================] - 0s 5ms/step - loss: 0.3751 - accuracy: 0.8500\n",
      "Epoch 76/500\n",
      "28/28 [==============================] - 0s 5ms/step - loss: 0.3664 - accuracy: 0.8627\n",
      "Epoch 77/500\n",
      "28/28 [==============================] - 0s 5ms/step - loss: 0.3735 - accuracy: 0.8531\n",
      "Epoch 78/500\n",
      "28/28 [==============================] - 0s 5ms/step - loss: 0.3834 - accuracy: 0.8438\n",
      "Epoch 79/500\n",
      "28/28 [==============================] - 0s 5ms/step - loss: 0.4013 - accuracy: 0.8325\n",
      "Epoch 80/500\n",
      "28/28 [==============================] - 0s 5ms/step - loss: 0.3707 - accuracy: 0.8489\n",
      "Epoch 81/500\n",
      "28/28 [==============================] - 0s 5ms/step - loss: 0.3605 - accuracy: 0.8561\n",
      "Epoch 82/500\n"
     ]
    },
    {
     "name": "stdout",
     "output_type": "stream",
     "text": [
      "28/28 [==============================] - 0s 5ms/step - loss: 0.3949 - accuracy: 0.8411\n",
      "Epoch 83/500\n",
      "28/28 [==============================] - 0s 5ms/step - loss: 0.3885 - accuracy: 0.8389\n",
      "Epoch 84/500\n",
      "28/28 [==============================] - 0s 5ms/step - loss: 0.3948 - accuracy: 0.8396\n",
      "Epoch 85/500\n",
      "28/28 [==============================] - 0s 5ms/step - loss: 0.3719 - accuracy: 0.8535\n",
      "Epoch 86/500\n",
      "28/28 [==============================] - 0s 5ms/step - loss: 0.4240 - accuracy: 0.8267\n",
      "Epoch 87/500\n",
      "28/28 [==============================] - 0s 5ms/step - loss: 0.3793 - accuracy: 0.8350\n",
      "Epoch 88/500\n",
      "28/28 [==============================] - 0s 5ms/step - loss: 0.3841 - accuracy: 0.8501\n",
      "Epoch 89/500\n",
      "28/28 [==============================] - 0s 5ms/step - loss: 0.3816 - accuracy: 0.8472\n",
      "Epoch 90/500\n",
      "28/28 [==============================] - 0s 5ms/step - loss: 0.4142 - accuracy: 0.8307\n",
      "Epoch 91/500\n",
      "28/28 [==============================] - 0s 5ms/step - loss: 0.3996 - accuracy: 0.8349\n",
      "Epoch 92/500\n",
      "28/28 [==============================] - 0s 5ms/step - loss: 0.3675 - accuracy: 0.8594\n",
      "Epoch 93/500\n",
      "28/28 [==============================] - 0s 5ms/step - loss: 0.3842 - accuracy: 0.8359\n",
      "Epoch 94/500\n",
      "28/28 [==============================] - 0s 5ms/step - loss: 0.3843 - accuracy: 0.8473\n",
      "Epoch 95/500\n",
      "28/28 [==============================] - 0s 5ms/step - loss: 0.3819 - accuracy: 0.8416\n",
      "Epoch 96/500\n",
      "28/28 [==============================] - 0s 5ms/step - loss: 0.3843 - accuracy: 0.8462\n",
      "Epoch 97/500\n",
      "28/28 [==============================] - 0s 5ms/step - loss: 0.3973 - accuracy: 0.8372\n",
      "Epoch 98/500\n",
      "28/28 [==============================] - 0s 5ms/step - loss: 0.3713 - accuracy: 0.8491\n",
      "Epoch 99/500\n",
      "28/28 [==============================] - 0s 6ms/step - loss: 0.3968 - accuracy: 0.8452\n",
      "Epoch 100/500\n",
      "28/28 [==============================] - 0s 5ms/step - loss: 0.3638 - accuracy: 0.8541\n",
      "Epoch 101/500\n",
      "28/28 [==============================] - 0s 5ms/step - loss: 0.3930 - accuracy: 0.8452\n",
      "Epoch 102/500\n",
      "28/28 [==============================] - 0s 6ms/step - loss: 0.3742 - accuracy: 0.8423\n",
      "Epoch 103/500\n",
      "28/28 [==============================] - 0s 6ms/step - loss: 0.4222 - accuracy: 0.8191\n",
      "Epoch 104/500\n",
      "28/28 [==============================] - 0s 6ms/step - loss: 0.3958 - accuracy: 0.8240\n",
      "Epoch 105/500\n",
      "28/28 [==============================] - 0s 6ms/step - loss: 0.3700 - accuracy: 0.8492\n",
      "Epoch 106/500\n",
      "28/28 [==============================] - 0s 6ms/step - loss: 0.3839 - accuracy: 0.8480\n",
      "Epoch 107/500\n",
      "28/28 [==============================] - 0s 6ms/step - loss: 0.3927 - accuracy: 0.8339\n",
      "Epoch 108/500\n",
      "28/28 [==============================] - 0s 5ms/step - loss: 0.4024 - accuracy: 0.8353\n",
      "Epoch 109/500\n",
      "28/28 [==============================] - 0s 5ms/step - loss: 0.3706 - accuracy: 0.8569\n",
      "Epoch 110/500\n",
      "28/28 [==============================] - 0s 6ms/step - loss: 0.3981 - accuracy: 0.8321\n",
      "Epoch 111/500\n",
      "28/28 [==============================] - 0s 6ms/step - loss: 0.3963 - accuracy: 0.8312\n",
      "Epoch 112/500\n",
      "28/28 [==============================] - 0s 6ms/step - loss: 0.3838 - accuracy: 0.8505\n",
      "Epoch 113/500\n",
      "28/28 [==============================] - 0s 5ms/step - loss: 0.3690 - accuracy: 0.8452\n",
      "Epoch 114/500\n",
      "28/28 [==============================] - 0s 5ms/step - loss: 0.4024 - accuracy: 0.8258\n",
      "Epoch 115/500\n",
      "28/28 [==============================] - 0s 5ms/step - loss: 0.3898 - accuracy: 0.8411\n",
      "Epoch 116/500\n",
      "28/28 [==============================] - 0s 5ms/step - loss: 0.3817 - accuracy: 0.8495\n",
      "Epoch 117/500\n",
      "28/28 [==============================] - 0s 5ms/step - loss: 0.4100 - accuracy: 0.8211\n",
      "Epoch 118/500\n",
      "28/28 [==============================] - 0s 6ms/step - loss: 0.3906 - accuracy: 0.8496\n",
      "Epoch 119/500\n",
      "28/28 [==============================] - 0s 6ms/step - loss: 0.4023 - accuracy: 0.8356\n",
      "Epoch 120/500\n",
      "28/28 [==============================] - 0s 6ms/step - loss: 0.3918 - accuracy: 0.8371\n",
      "Epoch 121/500\n",
      "28/28 [==============================] - 0s 6ms/step - loss: 0.3869 - accuracy: 0.8362\n",
      "Epoch 122/500\n",
      "28/28 [==============================] - 0s 6ms/step - loss: 0.4056 - accuracy: 0.8392\n",
      "Epoch 123/500\n",
      "28/28 [==============================] - 0s 6ms/step - loss: 0.3832 - accuracy: 0.8459\n",
      "Epoch 124/500\n",
      "28/28 [==============================] - 0s 5ms/step - loss: 0.3530 - accuracy: 0.8574\n",
      "Epoch 125/500\n",
      "28/28 [==============================] - 0s 5ms/step - loss: 0.4214 - accuracy: 0.8228\n",
      "Epoch 126/500\n",
      "28/28 [==============================] - 0s 6ms/step - loss: 0.3949 - accuracy: 0.8396\n",
      "Epoch 127/500\n",
      "28/28 [==============================] - 0s 6ms/step - loss: 0.3723 - accuracy: 0.8491\n",
      "Epoch 128/500\n",
      "28/28 [==============================] - 0s 6ms/step - loss: 0.4201 - accuracy: 0.8243\n",
      "Epoch 129/500\n",
      "28/28 [==============================] - 0s 6ms/step - loss: 0.3890 - accuracy: 0.8461\n",
      "Epoch 130/500\n",
      "28/28 [==============================] - 0s 6ms/step - loss: 0.3861 - accuracy: 0.8420\n",
      "Epoch 131/500\n",
      "28/28 [==============================] - 0s 6ms/step - loss: 0.4128 - accuracy: 0.8303\n",
      "Epoch 132/500\n",
      "28/28 [==============================] - 0s 5ms/step - loss: 0.3845 - accuracy: 0.8475\n",
      "Epoch 133/500\n",
      "28/28 [==============================] - 0s 5ms/step - loss: 0.4097 - accuracy: 0.8349\n",
      "Epoch 134/500\n",
      "28/28 [==============================] - 0s 6ms/step - loss: 0.4007 - accuracy: 0.8350\n",
      "Epoch 135/500\n",
      "28/28 [==============================] - 0s 6ms/step - loss: 0.3799 - accuracy: 0.8527\n",
      "Epoch 136/500\n",
      "28/28 [==============================] - 0s 6ms/step - loss: 0.3710 - accuracy: 0.8502\n",
      "Epoch 137/500\n",
      "28/28 [==============================] - 0s 6ms/step - loss: 0.4020 - accuracy: 0.8328\n",
      "Epoch 138/500\n",
      "28/28 [==============================] - 0s 6ms/step - loss: 0.3829 - accuracy: 0.8430\n",
      "Epoch 139/500\n",
      "28/28 [==============================] - 0s 5ms/step - loss: 0.3963 - accuracy: 0.8420\n",
      "Epoch 140/500\n",
      "28/28 [==============================] - 0s 5ms/step - loss: 0.3912 - accuracy: 0.8420\n",
      "Epoch 141/500\n",
      "28/28 [==============================] - 0s 6ms/step - loss: 0.4024 - accuracy: 0.8341\n",
      "Epoch 142/500\n",
      "28/28 [==============================] - 0s 5ms/step - loss: 0.3600 - accuracy: 0.8530\n",
      "Epoch 143/500\n",
      "28/28 [==============================] - 0s 5ms/step - loss: 0.3810 - accuracy: 0.8567\n",
      "Epoch 144/500\n",
      "28/28 [==============================] - 0s 6ms/step - loss: 0.4048 - accuracy: 0.8353\n",
      "Epoch 145/500\n",
      "28/28 [==============================] - 0s 5ms/step - loss: 0.3740 - accuracy: 0.8444\n",
      "Epoch 146/500\n",
      "28/28 [==============================] - 0s 6ms/step - loss: 0.3787 - accuracy: 0.8412\n",
      "Epoch 147/500\n",
      "28/28 [==============================] - 0s 5ms/step - loss: 0.3662 - accuracy: 0.8542\n",
      "Epoch 148/500\n",
      "28/28 [==============================] - 0s 5ms/step - loss: 0.3776 - accuracy: 0.8441\n",
      "Epoch 149/500\n",
      "28/28 [==============================] - 0s 6ms/step - loss: 0.3925 - accuracy: 0.8245\n",
      "Epoch 150/500\n",
      "28/28 [==============================] - 0s 5ms/step - loss: 0.3513 - accuracy: 0.8681\n",
      "Epoch 151/500\n",
      "28/28 [==============================] - 0s 6ms/step - loss: 0.3873 - accuracy: 0.8377\n",
      "Epoch 152/500\n",
      "28/28 [==============================] - 0s 6ms/step - loss: 0.3886 - accuracy: 0.8465\n",
      "Epoch 153/500\n",
      "28/28 [==============================] - 0s 6ms/step - loss: 0.3842 - accuracy: 0.8466\n",
      "Epoch 154/500\n",
      "28/28 [==============================] - 0s 6ms/step - loss: 0.3930 - accuracy: 0.8348\n",
      "Epoch 155/500\n",
      "28/28 [==============================] - 0s 5ms/step - loss: 0.3878 - accuracy: 0.8544\n",
      "Epoch 156/500\n",
      "28/28 [==============================] - ETA: 0s - loss: 0.4198 - accuracy: 0.82 - 0s 6ms/step - loss: 0.4068 - accuracy: 0.8320\n",
      "Epoch 157/500\n",
      "28/28 [==============================] - 0s 6ms/step - loss: 0.4121 - accuracy: 0.8314\n",
      "Epoch 158/500\n",
      "28/28 [==============================] - 0s 5ms/step - loss: 0.4083 - accuracy: 0.8187\n",
      "Epoch 159/500\n",
      "28/28 [==============================] - 0s 5ms/step - loss: 0.3853 - accuracy: 0.8425\n",
      "Epoch 160/500\n",
      "28/28 [==============================] - 0s 6ms/step - loss: 0.3423 - accuracy: 0.8695\n",
      "Epoch 161/500\n",
      "28/28 [==============================] - 0s 6ms/step - loss: 0.3955 - accuracy: 0.8380\n",
      "Epoch 162/500\n",
      "28/28 [==============================] - 0s 6ms/step - loss: 0.3833 - accuracy: 0.8500\n",
      "Epoch 163/500\n"
     ]
    },
    {
     "name": "stdout",
     "output_type": "stream",
     "text": [
      "28/28 [==============================] - 0s 5ms/step - loss: 0.3758 - accuracy: 0.8421\n",
      "Epoch 164/500\n",
      "28/28 [==============================] - 0s 5ms/step - loss: 0.3965 - accuracy: 0.8442\n",
      "Epoch 165/500\n",
      "28/28 [==============================] - 0s 5ms/step - loss: 0.3617 - accuracy: 0.8646\n",
      "Epoch 166/500\n",
      "28/28 [==============================] - 0s 6ms/step - loss: 0.3828 - accuracy: 0.8520\n",
      "Epoch 167/500\n",
      "28/28 [==============================] - 0s 6ms/step - loss: 0.3652 - accuracy: 0.8519\n",
      "Epoch 168/500\n",
      "28/28 [==============================] - 0s 6ms/step - loss: 0.3556 - accuracy: 0.8605\n",
      "Epoch 169/500\n",
      "28/28 [==============================] - 0s 6ms/step - loss: 0.3758 - accuracy: 0.8496\n",
      "Epoch 170/500\n",
      "28/28 [==============================] - 0s 5ms/step - loss: 0.3868 - accuracy: 0.8417\n",
      "Epoch 171/500\n",
      "28/28 [==============================] - 0s 6ms/step - loss: 0.3876 - accuracy: 0.8424\n",
      "Epoch 172/500\n",
      "28/28 [==============================] - 0s 6ms/step - loss: 0.4103 - accuracy: 0.8244: 0s - loss: 0.4199 - accuracy: 0.81\n",
      "Epoch 173/500\n",
      "28/28 [==============================] - 0s 5ms/step - loss: 0.4015 - accuracy: 0.8318\n",
      "Epoch 174/500\n",
      "28/28 [==============================] - 0s 6ms/step - loss: 0.3768 - accuracy: 0.8515\n",
      "Epoch 175/500\n",
      "28/28 [==============================] - 0s 5ms/step - loss: 0.3763 - accuracy: 0.8438\n",
      "Epoch 176/500\n",
      "28/28 [==============================] - 0s 6ms/step - loss: 0.3726 - accuracy: 0.8538\n",
      "Epoch 177/500\n",
      "28/28 [==============================] - 0s 6ms/step - loss: 0.3851 - accuracy: 0.8447\n",
      "Epoch 178/500\n",
      "28/28 [==============================] - 0s 5ms/step - loss: 0.3932 - accuracy: 0.8394\n",
      "Epoch 179/500\n",
      "28/28 [==============================] - 0s 5ms/step - loss: 0.4006 - accuracy: 0.8339\n",
      "Epoch 180/500\n",
      "28/28 [==============================] - 0s 5ms/step - loss: 0.3987 - accuracy: 0.8369\n",
      "Epoch 181/500\n",
      "28/28 [==============================] - 0s 5ms/step - loss: 0.4028 - accuracy: 0.8327\n",
      "Epoch 182/500\n",
      "28/28 [==============================] - 0s 5ms/step - loss: 0.4465 - accuracy: 0.8034\n",
      "Epoch 183/500\n",
      "28/28 [==============================] - 0s 5ms/step - loss: 0.3957 - accuracy: 0.8399\n",
      "Epoch 184/500\n",
      "28/28 [==============================] - 0s 5ms/step - loss: 0.3700 - accuracy: 0.8458\n",
      "Epoch 185/500\n",
      "28/28 [==============================] - 0s 5ms/step - loss: 0.3745 - accuracy: 0.8470\n",
      "Epoch 186/500\n",
      "28/28 [==============================] - 0s 5ms/step - loss: 0.3604 - accuracy: 0.8513\n",
      "Epoch 187/500\n",
      "28/28 [==============================] - 0s 5ms/step - loss: 0.3756 - accuracy: 0.8514\n",
      "Epoch 188/500\n",
      "28/28 [==============================] - 0s 5ms/step - loss: 0.3742 - accuracy: 0.8476\n",
      "Epoch 189/500\n",
      "28/28 [==============================] - 0s 5ms/step - loss: 0.3839 - accuracy: 0.8457\n",
      "Epoch 190/500\n",
      "28/28 [==============================] - 0s 5ms/step - loss: 0.3897 - accuracy: 0.8411\n",
      "Epoch 191/500\n",
      "28/28 [==============================] - 0s 5ms/step - loss: 0.3857 - accuracy: 0.8471\n",
      "Epoch 192/500\n",
      "28/28 [==============================] - 0s 5ms/step - loss: 0.4131 - accuracy: 0.8260\n",
      "Epoch 193/500\n",
      "28/28 [==============================] - 0s 5ms/step - loss: 0.3497 - accuracy: 0.8610\n",
      "Epoch 194/500\n",
      "28/28 [==============================] - 0s 6ms/step - loss: 0.3738 - accuracy: 0.8482\n",
      "Epoch 195/500\n",
      "28/28 [==============================] - 0s 5ms/step - loss: 0.3906 - accuracy: 0.8451\n",
      "Epoch 196/500\n",
      "28/28 [==============================] - 0s 5ms/step - loss: 0.3960 - accuracy: 0.8357\n",
      "Epoch 197/500\n",
      "28/28 [==============================] - 0s 5ms/step - loss: 0.4248 - accuracy: 0.8253\n",
      "Epoch 198/500\n",
      "28/28 [==============================] - 0s 5ms/step - loss: 0.4191 - accuracy: 0.8266\n",
      "Epoch 199/500\n",
      "28/28 [==============================] - 0s 5ms/step - loss: 0.3666 - accuracy: 0.8558\n",
      "Epoch 200/500\n",
      "28/28 [==============================] - 0s 5ms/step - loss: 0.3955 - accuracy: 0.8313\n",
      "Epoch 201/500\n",
      "28/28 [==============================] - 0s 5ms/step - loss: 0.4075 - accuracy: 0.8188\n",
      "Epoch 202/500\n",
      "28/28 [==============================] - 0s 5ms/step - loss: 0.3797 - accuracy: 0.8463\n",
      "Epoch 203/500\n",
      "28/28 [==============================] - 0s 5ms/step - loss: 0.3862 - accuracy: 0.8442\n",
      "Epoch 204/500\n",
      "28/28 [==============================] - 0s 5ms/step - loss: 0.3677 - accuracy: 0.8558\n",
      "Epoch 205/500\n",
      "28/28 [==============================] - 0s 5ms/step - loss: 0.3779 - accuracy: 0.8531\n",
      "Epoch 206/500\n",
      "28/28 [==============================] - 0s 5ms/step - loss: 0.4095 - accuracy: 0.8164\n",
      "Epoch 207/500\n",
      "28/28 [==============================] - 0s 5ms/step - loss: 0.4108 - accuracy: 0.8275\n",
      "Epoch 208/500\n",
      "28/28 [==============================] - 0s 5ms/step - loss: 0.3866 - accuracy: 0.8459\n",
      "Epoch 209/500\n",
      "28/28 [==============================] - 0s 5ms/step - loss: 0.3890 - accuracy: 0.8414\n",
      "Epoch 210/500\n",
      "28/28 [==============================] - 0s 5ms/step - loss: 0.3650 - accuracy: 0.8546\n",
      "Epoch 211/500\n",
      "28/28 [==============================] - 0s 5ms/step - loss: 0.4126 - accuracy: 0.8250\n",
      "Epoch 212/500\n",
      "28/28 [==============================] - 0s 6ms/step - loss: 0.3914 - accuracy: 0.8467\n",
      "Epoch 213/500\n",
      "28/28 [==============================] - 0s 6ms/step - loss: 0.3495 - accuracy: 0.8629\n",
      "Epoch 214/500\n",
      "28/28 [==============================] - 0s 6ms/step - loss: 0.3808 - accuracy: 0.8483\n",
      "Epoch 215/500\n",
      "28/28 [==============================] - 0s 6ms/step - loss: 0.4101 - accuracy: 0.8345\n",
      "Epoch 216/500\n",
      "28/28 [==============================] - 0s 5ms/step - loss: 0.4002 - accuracy: 0.8354\n",
      "Epoch 217/500\n",
      "28/28 [==============================] - 0s 6ms/step - loss: 0.3781 - accuracy: 0.8403\n",
      "Epoch 218/500\n",
      "28/28 [==============================] - 0s 6ms/step - loss: 0.3881 - accuracy: 0.8363\n",
      "Epoch 219/500\n",
      "28/28 [==============================] - 0s 6ms/step - loss: 0.3587 - accuracy: 0.8596\n",
      "Epoch 220/500\n",
      "28/28 [==============================] - 0s 6ms/step - loss: 0.4059 - accuracy: 0.8314\n",
      "Epoch 221/500\n",
      "28/28 [==============================] - 0s 6ms/step - loss: 0.3676 - accuracy: 0.8507\n",
      "Epoch 222/500\n",
      "28/28 [==============================] - 0s 6ms/step - loss: 0.3809 - accuracy: 0.8521\n",
      "Epoch 223/500\n",
      "28/28 [==============================] - 0s 6ms/step - loss: 0.4052 - accuracy: 0.8276\n",
      "Epoch 224/500\n",
      "28/28 [==============================] - 0s 6ms/step - loss: 0.3891 - accuracy: 0.8345\n",
      "Epoch 225/500\n",
      "28/28 [==============================] - 0s 6ms/step - loss: 0.3840 - accuracy: 0.8410\n",
      "Epoch 226/500\n",
      "28/28 [==============================] - 0s 6ms/step - loss: 0.3879 - accuracy: 0.8337\n",
      "Epoch 227/500\n",
      "28/28 [==============================] - 0s 6ms/step - loss: 0.3761 - accuracy: 0.8520\n",
      "Epoch 228/500\n",
      "28/28 [==============================] - 0s 6ms/step - loss: 0.3845 - accuracy: 0.8477\n",
      "Epoch 229/500\n",
      "28/28 [==============================] - 0s 5ms/step - loss: 0.3796 - accuracy: 0.8365\n",
      "Epoch 230/500\n",
      "28/28 [==============================] - 0s 6ms/step - loss: 0.3753 - accuracy: 0.8483\n",
      "Epoch 231/500\n",
      "28/28 [==============================] - 0s 6ms/step - loss: 0.3985 - accuracy: 0.8360\n",
      "Epoch 232/500\n",
      "28/28 [==============================] - 0s 7ms/step - loss: 0.3537 - accuracy: 0.8617\n",
      "Epoch 233/500\n",
      "28/28 [==============================] - 0s 6ms/step - loss: 0.3853 - accuracy: 0.8529\n",
      "Epoch 234/500\n",
      "28/28 [==============================] - 0s 6ms/step - loss: 0.3740 - accuracy: 0.8465\n",
      "Epoch 235/500\n",
      "28/28 [==============================] - 0s 6ms/step - loss: 0.3849 - accuracy: 0.8442\n",
      "Epoch 236/500\n",
      "28/28 [==============================] - 0s 6ms/step - loss: 0.3871 - accuracy: 0.8373\n",
      "Epoch 237/500\n",
      "28/28 [==============================] - 0s 6ms/step - loss: 0.3656 - accuracy: 0.8518\n",
      "Epoch 238/500\n",
      "28/28 [==============================] - 0s 6ms/step - loss: 0.3604 - accuracy: 0.8583\n",
      "Epoch 239/500\n",
      "28/28 [==============================] - 0s 6ms/step - loss: 0.3871 - accuracy: 0.8455\n",
      "Epoch 240/500\n",
      "28/28 [==============================] - ETA: 0s - loss: 0.3420 - accuracy: 0.86 - 0s 5ms/step - loss: 0.3519 - accuracy: 0.8586\n",
      "Epoch 241/500\n",
      "28/28 [==============================] - 0s 6ms/step - loss: 0.3835 - accuracy: 0.8376\n",
      "Epoch 242/500\n",
      "28/28 [==============================] - 0s 5ms/step - loss: 0.3640 - accuracy: 0.8594\n",
      "Epoch 243/500\n"
     ]
    },
    {
     "name": "stdout",
     "output_type": "stream",
     "text": [
      "28/28 [==============================] - 0s 6ms/step - loss: 0.3786 - accuracy: 0.8460\n",
      "Epoch 244/500\n",
      "28/28 [==============================] - 0s 6ms/step - loss: 0.3802 - accuracy: 0.8333\n",
      "Epoch 245/500\n",
      "28/28 [==============================] - 0s 6ms/step - loss: 0.3720 - accuracy: 0.8449\n",
      "Epoch 246/500\n",
      "28/28 [==============================] - 0s 6ms/step - loss: 0.3922 - accuracy: 0.8435\n",
      "Epoch 247/500\n",
      "28/28 [==============================] - 0s 6ms/step - loss: 0.3537 - accuracy: 0.8649\n",
      "Epoch 248/500\n",
      "28/28 [==============================] - 0s 6ms/step - loss: 0.4109 - accuracy: 0.8338\n",
      "Epoch 249/500\n",
      "28/28 [==============================] - 0s 6ms/step - loss: 0.3763 - accuracy: 0.8494\n",
      "Epoch 250/500\n",
      "28/28 [==============================] - 0s 6ms/step - loss: 0.3784 - accuracy: 0.8486\n",
      "Epoch 251/500\n",
      "28/28 [==============================] - 0s 6ms/step - loss: 0.3786 - accuracy: 0.8478\n",
      "Epoch 252/500\n",
      "28/28 [==============================] - 0s 5ms/step - loss: 0.3708 - accuracy: 0.8484\n",
      "Epoch 253/500\n",
      "28/28 [==============================] - 0s 5ms/step - loss: 0.4007 - accuracy: 0.8390\n",
      "Epoch 254/500\n",
      "28/28 [==============================] - 0s 6ms/step - loss: 0.3987 - accuracy: 0.8297\n",
      "Epoch 255/500\n",
      "28/28 [==============================] - 0s 6ms/step - loss: 0.3872 - accuracy: 0.8346\n",
      "Epoch 256/500\n",
      "28/28 [==============================] - 0s 6ms/step - loss: 0.4033 - accuracy: 0.8386\n",
      "Epoch 257/500\n",
      "28/28 [==============================] - 0s 6ms/step - loss: 0.3725 - accuracy: 0.8473\n",
      "Epoch 258/500\n",
      "28/28 [==============================] - 0s 6ms/step - loss: 0.3891 - accuracy: 0.8476\n",
      "Epoch 259/500\n",
      "28/28 [==============================] - 0s 6ms/step - loss: 0.3955 - accuracy: 0.8411\n",
      "Epoch 260/500\n",
      "28/28 [==============================] - 0s 6ms/step - loss: 0.3591 - accuracy: 0.8564\n",
      "Epoch 261/500\n",
      "28/28 [==============================] - 0s 6ms/step - loss: 0.3947 - accuracy: 0.8358\n",
      "Epoch 262/500\n",
      "28/28 [==============================] - 0s 6ms/step - loss: 0.3678 - accuracy: 0.8541\n",
      "Epoch 263/500\n",
      "28/28 [==============================] - 0s 6ms/step - loss: 0.4032 - accuracy: 0.8299\n",
      "Epoch 264/500\n",
      "28/28 [==============================] - 0s 6ms/step - loss: 0.3845 - accuracy: 0.8417\n",
      "Epoch 265/500\n",
      "28/28 [==============================] - 0s 5ms/step - loss: 0.3739 - accuracy: 0.8551\n",
      "Epoch 266/500\n",
      "28/28 [==============================] - 0s 5ms/step - loss: 0.3729 - accuracy: 0.8551\n",
      "Epoch 267/500\n",
      "28/28 [==============================] - 0s 5ms/step - loss: 0.3755 - accuracy: 0.8493\n",
      "Epoch 268/500\n",
      "28/28 [==============================] - 0s 5ms/step - loss: 0.3775 - accuracy: 0.8438\n",
      "Epoch 269/500\n",
      "28/28 [==============================] - 0s 5ms/step - loss: 0.3899 - accuracy: 0.8388\n",
      "Epoch 270/500\n",
      "28/28 [==============================] - 0s 5ms/step - loss: 0.3708 - accuracy: 0.8594\n",
      "Epoch 271/500\n",
      "28/28 [==============================] - 0s 5ms/step - loss: 0.4053 - accuracy: 0.8248\n",
      "Epoch 272/500\n",
      "28/28 [==============================] - 0s 5ms/step - loss: 0.3595 - accuracy: 0.8568\n",
      "Epoch 273/500\n",
      "28/28 [==============================] - 0s 5ms/step - loss: 0.3883 - accuracy: 0.8442\n",
      "Epoch 274/500\n",
      "28/28 [==============================] - 0s 6ms/step - loss: 0.3971 - accuracy: 0.8210\n",
      "Epoch 275/500\n",
      "28/28 [==============================] - 0s 5ms/step - loss: 0.3920 - accuracy: 0.8415\n",
      "Epoch 276/500\n",
      "28/28 [==============================] - 0s 5ms/step - loss: 0.3917 - accuracy: 0.8384\n",
      "Epoch 277/500\n",
      "28/28 [==============================] - 0s 6ms/step - loss: 0.4076 - accuracy: 0.8344\n",
      "Epoch 278/500\n",
      "28/28 [==============================] - 0s 5ms/step - loss: 0.3773 - accuracy: 0.8518\n",
      "Epoch 279/500\n",
      "28/28 [==============================] - 0s 5ms/step - loss: 0.3765 - accuracy: 0.8398\n",
      "Epoch 280/500\n",
      "28/28 [==============================] - 0s 6ms/step - loss: 0.3738 - accuracy: 0.8526\n",
      "Epoch 281/500\n",
      "28/28 [==============================] - 0s 5ms/step - loss: 0.4013 - accuracy: 0.8255\n",
      "Epoch 282/500\n",
      "28/28 [==============================] - 0s 6ms/step - loss: 0.3728 - accuracy: 0.8537\n",
      "Epoch 283/500\n",
      "28/28 [==============================] - 0s 6ms/step - loss: 0.3939 - accuracy: 0.8393\n",
      "Epoch 284/500\n",
      "28/28 [==============================] - 0s 6ms/step - loss: 0.3616 - accuracy: 0.8563\n",
      "Epoch 285/500\n",
      "28/28 [==============================] - 0s 6ms/step - loss: 0.3485 - accuracy: 0.8671\n",
      "Epoch 286/500\n",
      "28/28 [==============================] - 0s 6ms/step - loss: 0.4044 - accuracy: 0.8328\n",
      "Epoch 287/500\n",
      "28/28 [==============================] - 0s 5ms/step - loss: 0.3998 - accuracy: 0.8402\n",
      "Epoch 288/500\n",
      "28/28 [==============================] - 0s 6ms/step - loss: 0.3627 - accuracy: 0.8575\n",
      "Epoch 289/500\n",
      "28/28 [==============================] - 0s 6ms/step - loss: 0.3709 - accuracy: 0.8459\n",
      "Epoch 290/500\n",
      "28/28 [==============================] - 0s 6ms/step - loss: 0.3663 - accuracy: 0.8482\n",
      "Epoch 291/500\n",
      "28/28 [==============================] - 0s 6ms/step - loss: 0.4001 - accuracy: 0.8437\n",
      "Epoch 292/500\n",
      "28/28 [==============================] - 0s 6ms/step - loss: 0.3793 - accuracy: 0.8541\n",
      "Epoch 293/500\n",
      "28/28 [==============================] - 0s 6ms/step - loss: 0.3634 - accuracy: 0.8635\n",
      "Epoch 294/500\n",
      "28/28 [==============================] - 0s 6ms/step - loss: 0.3868 - accuracy: 0.8478\n",
      "Epoch 295/500\n",
      "28/28 [==============================] - 0s 6ms/step - loss: 0.3708 - accuracy: 0.8565\n",
      "Epoch 296/500\n",
      "28/28 [==============================] - 0s 6ms/step - loss: 0.3571 - accuracy: 0.8544\n",
      "Epoch 297/500\n",
      "28/28 [==============================] - 0s 6ms/step - loss: 0.3840 - accuracy: 0.8443\n",
      "Epoch 298/500\n",
      "28/28 [==============================] - 0s 6ms/step - loss: 0.3653 - accuracy: 0.8518\n",
      "Epoch 299/500\n",
      "28/28 [==============================] - 0s 6ms/step - loss: 0.3677 - accuracy: 0.8491\n",
      "Epoch 300/500\n",
      "28/28 [==============================] - 0s 5ms/step - loss: 0.3704 - accuracy: 0.8460\n",
      "Epoch 301/500\n",
      "28/28 [==============================] - 0s 6ms/step - loss: 0.3981 - accuracy: 0.8411\n",
      "Epoch 302/500\n",
      "28/28 [==============================] - 0s 6ms/step - loss: 0.3740 - accuracy: 0.8519\n",
      "Epoch 303/500\n",
      "28/28 [==============================] - 0s 6ms/step - loss: 0.3560 - accuracy: 0.8674\n",
      "Epoch 304/500\n",
      "28/28 [==============================] - 0s 6ms/step - loss: 0.3834 - accuracy: 0.8448\n",
      "Epoch 305/500\n",
      "28/28 [==============================] - 0s 6ms/step - loss: 0.4044 - accuracy: 0.8386\n",
      "Epoch 306/500\n",
      "28/28 [==============================] - 0s 6ms/step - loss: 0.4247 - accuracy: 0.8187\n",
      "Epoch 307/500\n",
      "28/28 [==============================] - 0s 6ms/step - loss: 0.4102 - accuracy: 0.8213\n",
      "Epoch 308/500\n",
      "28/28 [==============================] - 0s 5ms/step - loss: 0.4119 - accuracy: 0.8257\n",
      "Epoch 309/500\n",
      "28/28 [==============================] - 0s 6ms/step - loss: 0.3816 - accuracy: 0.8495\n",
      "Epoch 310/500\n",
      "28/28 [==============================] - 0s 5ms/step - loss: 0.3846 - accuracy: 0.8370\n",
      "Epoch 311/500\n",
      "28/28 [==============================] - 0s 5ms/step - loss: 0.3758 - accuracy: 0.8410\n",
      "Epoch 312/500\n",
      "28/28 [==============================] - 0s 5ms/step - loss: 0.3705 - accuracy: 0.8429\n",
      "Epoch 313/500\n",
      "28/28 [==============================] - 0s 6ms/step - loss: 0.3792 - accuracy: 0.8472\n",
      "Epoch 314/500\n",
      "28/28 [==============================] - 0s 6ms/step - loss: 0.4027 - accuracy: 0.8365\n",
      "Epoch 315/500\n",
      "28/28 [==============================] - 0s 6ms/step - loss: 0.3909 - accuracy: 0.8459\n",
      "Epoch 316/500\n",
      "28/28 [==============================] - 0s 6ms/step - loss: 0.3876 - accuracy: 0.8399\n",
      "Epoch 317/500\n",
      "28/28 [==============================] - 0s 6ms/step - loss: 0.3582 - accuracy: 0.8502\n",
      "Epoch 318/500\n",
      "28/28 [==============================] - 0s 6ms/step - loss: 0.4017 - accuracy: 0.8401\n",
      "Epoch 319/500\n",
      "28/28 [==============================] - 0s 6ms/step - loss: 0.4033 - accuracy: 0.8298\n",
      "Epoch 320/500\n",
      "28/28 [==============================] - 0s 6ms/step - loss: 0.3822 - accuracy: 0.8477\n",
      "Epoch 321/500\n",
      "28/28 [==============================] - 0s 6ms/step - loss: 0.3888 - accuracy: 0.8485\n",
      "Epoch 322/500\n",
      "28/28 [==============================] - 0s 5ms/step - loss: 0.4016 - accuracy: 0.8288\n",
      "Epoch 323/500\n",
      "28/28 [==============================] - 0s 6ms/step - loss: 0.3588 - accuracy: 0.8596\n",
      "Epoch 324/500\n"
     ]
    },
    {
     "name": "stdout",
     "output_type": "stream",
     "text": [
      "28/28 [==============================] - 0s 6ms/step - loss: 0.3622 - accuracy: 0.8478\n",
      "Epoch 325/500\n",
      "28/28 [==============================] - 0s 6ms/step - loss: 0.4059 - accuracy: 0.8302\n",
      "Epoch 326/500\n",
      "28/28 [==============================] - 0s 6ms/step - loss: 0.3533 - accuracy: 0.8516\n",
      "Epoch 327/500\n",
      "28/28 [==============================] - 0s 5ms/step - loss: 0.3849 - accuracy: 0.8514\n",
      "Epoch 328/500\n",
      "28/28 [==============================] - 0s 6ms/step - loss: 0.3848 - accuracy: 0.8442\n",
      "Epoch 329/500\n",
      "28/28 [==============================] - 0s 6ms/step - loss: 0.3859 - accuracy: 0.8414\n",
      "Epoch 330/500\n",
      "28/28 [==============================] - 0s 6ms/step - loss: 0.3743 - accuracy: 0.8495\n",
      "Epoch 331/500\n",
      "28/28 [==============================] - 0s 5ms/step - loss: 0.3718 - accuracy: 0.8577\n",
      "Epoch 332/500\n",
      "28/28 [==============================] - 0s 5ms/step - loss: 0.3692 - accuracy: 0.8546\n",
      "Epoch 333/500\n",
      "28/28 [==============================] - 0s 6ms/step - loss: 0.4171 - accuracy: 0.8238\n",
      "Epoch 334/500\n",
      "28/28 [==============================] - 0s 6ms/step - loss: 0.3777 - accuracy: 0.8484\n",
      "Epoch 335/500\n",
      "28/28 [==============================] - 0s 6ms/step - loss: 0.3918 - accuracy: 0.8373\n",
      "Epoch 336/500\n",
      "28/28 [==============================] - 0s 6ms/step - loss: 0.4044 - accuracy: 0.8384\n",
      "Epoch 337/500\n",
      "28/28 [==============================] - 0s 6ms/step - loss: 0.4416 - accuracy: 0.8049\n",
      "Epoch 338/500\n",
      "28/28 [==============================] - 0s 6ms/step - loss: 0.4077 - accuracy: 0.8344\n",
      "Epoch 339/500\n",
      "28/28 [==============================] - 0s 5ms/step - loss: 0.3672 - accuracy: 0.8570\n",
      "Epoch 340/500\n",
      "28/28 [==============================] - 0s 6ms/step - loss: 0.3777 - accuracy: 0.8427\n",
      "Epoch 341/500\n",
      "28/28 [==============================] - 0s 5ms/step - loss: 0.4092 - accuracy: 0.8330\n",
      "Epoch 342/500\n",
      "28/28 [==============================] - 0s 6ms/step - loss: 0.3592 - accuracy: 0.8691\n",
      "Epoch 343/500\n",
      "28/28 [==============================] - 0s 6ms/step - loss: 0.4205 - accuracy: 0.8261\n",
      "Epoch 344/500\n",
      "28/28 [==============================] - 0s 6ms/step - loss: 0.3975 - accuracy: 0.8367\n",
      "Epoch 345/500\n",
      "28/28 [==============================] - 0s 6ms/step - loss: 0.3714 - accuracy: 0.8556\n",
      "Epoch 346/500\n",
      "28/28 [==============================] - 0s 6ms/step - loss: 0.3865 - accuracy: 0.8365\n",
      "Epoch 347/500\n",
      "28/28 [==============================] - 0s 5ms/step - loss: 0.3736 - accuracy: 0.8425\n",
      "Epoch 348/500\n",
      "28/28 [==============================] - 0s 6ms/step - loss: 0.3872 - accuracy: 0.8377\n",
      "Epoch 349/500\n",
      "28/28 [==============================] - 0s 6ms/step - loss: 0.4368 - accuracy: 0.8139\n",
      "Epoch 350/500\n",
      "28/28 [==============================] - 0s 6ms/step - loss: 0.3863 - accuracy: 0.8479\n",
      "Epoch 351/500\n",
      "28/28 [==============================] - 0s 6ms/step - loss: 0.3917 - accuracy: 0.8408\n",
      "Epoch 352/500\n",
      "28/28 [==============================] - 0s 6ms/step - loss: 0.4003 - accuracy: 0.8330\n",
      "Epoch 353/500\n",
      "28/28 [==============================] - 0s 6ms/step - loss: 0.3917 - accuracy: 0.8328\n",
      "Epoch 354/500\n",
      "28/28 [==============================] - 0s 5ms/step - loss: 0.3724 - accuracy: 0.8468\n",
      "Epoch 355/500\n",
      "28/28 [==============================] - 0s 6ms/step - loss: 0.3621 - accuracy: 0.8548\n",
      "Epoch 356/500\n",
      "28/28 [==============================] - 0s 6ms/step - loss: 0.4079 - accuracy: 0.8270\n",
      "Epoch 357/500\n",
      "28/28 [==============================] - 0s 6ms/step - loss: 0.3759 - accuracy: 0.8428\n",
      "Epoch 358/500\n",
      "28/28 [==============================] - 0s 6ms/step - loss: 0.3802 - accuracy: 0.8463\n",
      "Epoch 359/500\n",
      "28/28 [==============================] - 0s 6ms/step - loss: 0.3926 - accuracy: 0.8442\n",
      "Epoch 360/500\n",
      "28/28 [==============================] - 0s 6ms/step - loss: 0.3591 - accuracy: 0.8512\n",
      "Epoch 361/500\n",
      "28/28 [==============================] - 0s 6ms/step - loss: 0.3883 - accuracy: 0.8454\n",
      "Epoch 362/500\n",
      "28/28 [==============================] - 0s 6ms/step - loss: 0.4162 - accuracy: 0.8301\n",
      "Epoch 363/500\n",
      "28/28 [==============================] - 0s 6ms/step - loss: 0.3687 - accuracy: 0.8557\n",
      "Epoch 364/500\n",
      "28/28 [==============================] - 0s 6ms/step - loss: 0.3889 - accuracy: 0.8377\n",
      "Epoch 365/500\n",
      "28/28 [==============================] - 0s 6ms/step - loss: 0.3784 - accuracy: 0.8477\n",
      "Epoch 366/500\n",
      "28/28 [==============================] - 0s 6ms/step - loss: 0.3874 - accuracy: 0.8395\n",
      "Epoch 367/500\n",
      "28/28 [==============================] - 0s 6ms/step - loss: 0.3618 - accuracy: 0.8525\n",
      "Epoch 368/500\n",
      "28/28 [==============================] - 0s 6ms/step - loss: 0.3650 - accuracy: 0.8519\n",
      "Epoch 369/500\n",
      "28/28 [==============================] - 0s 6ms/step - loss: 0.3684 - accuracy: 0.8432\n",
      "Epoch 370/500\n",
      "28/28 [==============================] - 0s 6ms/step - loss: 0.3644 - accuracy: 0.8554\n",
      "Epoch 371/500\n",
      "28/28 [==============================] - 0s 6ms/step - loss: 0.3842 - accuracy: 0.8467\n",
      "Epoch 372/500\n",
      "28/28 [==============================] - 0s 6ms/step - loss: 0.3525 - accuracy: 0.8647\n",
      "Epoch 373/500\n",
      "28/28 [==============================] - 0s 6ms/step - loss: 0.3935 - accuracy: 0.8319\n",
      "Epoch 374/500\n",
      "28/28 [==============================] - 0s 6ms/step - loss: 0.3748 - accuracy: 0.8473\n",
      "Epoch 375/500\n",
      "28/28 [==============================] - 0s 6ms/step - loss: 0.3353 - accuracy: 0.8689\n",
      "Epoch 376/500\n",
      "28/28 [==============================] - 0s 5ms/step - loss: 0.3854 - accuracy: 0.8412\n",
      "Epoch 377/500\n",
      "28/28 [==============================] - 0s 6ms/step - loss: 0.3765 - accuracy: 0.8475\n",
      "Epoch 378/500\n",
      "28/28 [==============================] - 0s 6ms/step - loss: 0.3921 - accuracy: 0.8319\n",
      "Epoch 379/500\n",
      "28/28 [==============================] - 0s 6ms/step - loss: 0.3762 - accuracy: 0.8412\n",
      "Epoch 380/500\n",
      "28/28 [==============================] - 0s 6ms/step - loss: 0.3880 - accuracy: 0.8355\n",
      "Epoch 381/500\n",
      "28/28 [==============================] - 0s 6ms/step - loss: 0.3524 - accuracy: 0.8594\n",
      "Epoch 382/500\n",
      "28/28 [==============================] - 0s 6ms/step - loss: 0.4068 - accuracy: 0.8299\n",
      "Epoch 383/500\n",
      "28/28 [==============================] - 0s 6ms/step - loss: 0.3587 - accuracy: 0.8517\n",
      "Epoch 384/500\n",
      "28/28 [==============================] - 0s 5ms/step - loss: 0.3736 - accuracy: 0.8457\n",
      "Epoch 385/500\n",
      "28/28 [==============================] - 0s 6ms/step - loss: 0.4053 - accuracy: 0.8259\n",
      "Epoch 386/500\n",
      "28/28 [==============================] - 0s 6ms/step - loss: 0.3881 - accuracy: 0.8331\n",
      "Epoch 387/500\n",
      "28/28 [==============================] - 0s 6ms/step - loss: 0.3822 - accuracy: 0.8371\n",
      "Epoch 388/500\n",
      "28/28 [==============================] - 0s 6ms/step - loss: 0.4092 - accuracy: 0.8376\n",
      "Epoch 389/500\n",
      "28/28 [==============================] - 0s 6ms/step - loss: 0.4183 - accuracy: 0.8290\n",
      "Epoch 390/500\n",
      "28/28 [==============================] - 0s 5ms/step - loss: 0.3467 - accuracy: 0.8619\n",
      "Epoch 391/500\n",
      "28/28 [==============================] - 0s 6ms/step - loss: 0.3625 - accuracy: 0.8565\n",
      "Epoch 392/500\n",
      "28/28 [==============================] - 0s 6ms/step - loss: 0.3596 - accuracy: 0.8601\n",
      "Epoch 393/500\n",
      "28/28 [==============================] - 0s 5ms/step - loss: 0.3684 - accuracy: 0.8520\n",
      "Epoch 394/500\n",
      "28/28 [==============================] - 0s 6ms/step - loss: 0.3721 - accuracy: 0.8526\n",
      "Epoch 395/500\n",
      "28/28 [==============================] - 0s 6ms/step - loss: 0.3856 - accuracy: 0.8462\n",
      "Epoch 396/500\n",
      "28/28 [==============================] - 0s 6ms/step - loss: 0.3993 - accuracy: 0.8430\n",
      "Epoch 397/500\n",
      "28/28 [==============================] - 0s 6ms/step - loss: 0.3752 - accuracy: 0.8622\n",
      "Epoch 398/500\n",
      "28/28 [==============================] - 0s 6ms/step - loss: 0.3560 - accuracy: 0.8626\n",
      "Epoch 399/500\n",
      "28/28 [==============================] - 0s 6ms/step - loss: 0.3738 - accuracy: 0.8460\n",
      "Epoch 400/500\n",
      "28/28 [==============================] - 0s 6ms/step - loss: 0.3408 - accuracy: 0.8694\n",
      "Epoch 401/500\n",
      "28/28 [==============================] - 0s 6ms/step - loss: 0.3982 - accuracy: 0.8286\n",
      "Epoch 402/500\n",
      "28/28 [==============================] - 0s 6ms/step - loss: 0.3694 - accuracy: 0.8538\n",
      "Epoch 403/500\n",
      "28/28 [==============================] - 0s 6ms/step - loss: 0.3674 - accuracy: 0.8534\n",
      "Epoch 404/500\n",
      "28/28 [==============================] - 0s 6ms/step - loss: 0.3865 - accuracy: 0.8383\n",
      "Epoch 405/500\n"
     ]
    },
    {
     "name": "stdout",
     "output_type": "stream",
     "text": [
      "28/28 [==============================] - 0s 6ms/step - loss: 0.3864 - accuracy: 0.8361\n",
      "Epoch 406/500\n",
      "28/28 [==============================] - 0s 6ms/step - loss: 0.3888 - accuracy: 0.8336\n",
      "Epoch 407/500\n",
      "28/28 [==============================] - 0s 5ms/step - loss: 0.3808 - accuracy: 0.8469\n",
      "Epoch 408/500\n",
      "28/28 [==============================] - 0s 5ms/step - loss: 0.3563 - accuracy: 0.8655\n",
      "Epoch 409/500\n",
      "28/28 [==============================] - 0s 5ms/step - loss: 0.3754 - accuracy: 0.8517\n",
      "Epoch 410/500\n",
      "28/28 [==============================] - 0s 5ms/step - loss: 0.3492 - accuracy: 0.8625\n",
      "Epoch 411/500\n",
      "28/28 [==============================] - 0s 6ms/step - loss: 0.3725 - accuracy: 0.8572\n",
      "Epoch 412/500\n",
      "28/28 [==============================] - 0s 6ms/step - loss: 0.3622 - accuracy: 0.8471\n",
      "Epoch 413/500\n",
      "28/28 [==============================] - 0s 6ms/step - loss: 0.3436 - accuracy: 0.8695\n",
      "Epoch 414/500\n",
      "28/28 [==============================] - 0s 6ms/step - loss: 0.3993 - accuracy: 0.8285\n",
      "Epoch 415/500\n",
      "28/28 [==============================] - 0s 6ms/step - loss: 0.3945 - accuracy: 0.8406\n",
      "Epoch 416/500\n",
      "28/28 [==============================] - 0s 6ms/step - loss: 0.4057 - accuracy: 0.8372: 0s - loss: 0.4135 - accuracy: 0.\n",
      "Epoch 417/500\n",
      "28/28 [==============================] - 0s 6ms/step - loss: 0.3942 - accuracy: 0.8449\n",
      "Epoch 418/500\n",
      "28/28 [==============================] - 0s 5ms/step - loss: 0.3778 - accuracy: 0.8472\n",
      "Epoch 419/500\n",
      "28/28 [==============================] - 0s 6ms/step - loss: 0.3737 - accuracy: 0.8480\n",
      "Epoch 420/500\n",
      "28/28 [==============================] - 0s 6ms/step - loss: 0.3756 - accuracy: 0.8502\n",
      "Epoch 421/500\n",
      "28/28 [==============================] - 0s 6ms/step - loss: 0.3978 - accuracy: 0.8398\n",
      "Epoch 422/500\n",
      "28/28 [==============================] - 0s 6ms/step - loss: 0.3645 - accuracy: 0.8644\n",
      "Epoch 423/500\n",
      "28/28 [==============================] - 0s 6ms/step - loss: 0.3758 - accuracy: 0.8453\n",
      "Epoch 424/500\n",
      "28/28 [==============================] - 0s 5ms/step - loss: 0.3953 - accuracy: 0.8422\n",
      "Epoch 425/500\n",
      "28/28 [==============================] - 0s 6ms/step - loss: 0.3937 - accuracy: 0.8379\n",
      "Epoch 426/500\n",
      "28/28 [==============================] - 0s 5ms/step - loss: 0.3601 - accuracy: 0.8467\n",
      "Epoch 427/500\n",
      "28/28 [==============================] - 0s 6ms/step - loss: 0.3596 - accuracy: 0.8642\n",
      "Epoch 428/500\n",
      "28/28 [==============================] - 0s 5ms/step - loss: 0.4082 - accuracy: 0.8333\n",
      "Epoch 429/500\n",
      "28/28 [==============================] - 0s 5ms/step - loss: 0.4339 - accuracy: 0.8213\n",
      "Epoch 430/500\n",
      "28/28 [==============================] - ETA: 0s - loss: 0.3996 - accuracy: 0.82 - 0s 6ms/step - loss: 0.3956 - accuracy: 0.8329\n",
      "Epoch 431/500\n",
      "28/28 [==============================] - 0s 6ms/step - loss: 0.3952 - accuracy: 0.8488\n",
      "Epoch 432/500\n",
      "28/28 [==============================] - 0s 6ms/step - loss: 0.3871 - accuracy: 0.8563\n",
      "Epoch 433/500\n",
      "28/28 [==============================] - 0s 6ms/step - loss: 0.3607 - accuracy: 0.8563\n",
      "Epoch 434/500\n",
      "28/28 [==============================] - 0s 6ms/step - loss: 0.3598 - accuracy: 0.8597\n",
      "Epoch 435/500\n",
      "28/28 [==============================] - 0s 5ms/step - loss: 0.3850 - accuracy: 0.8394\n",
      "Epoch 436/500\n",
      "28/28 [==============================] - 0s 5ms/step - loss: 0.3876 - accuracy: 0.8403\n",
      "Epoch 437/500\n",
      "28/28 [==============================] - 0s 6ms/step - loss: 0.3980 - accuracy: 0.8409\n",
      "Epoch 438/500\n",
      "28/28 [==============================] - 0s 6ms/step - loss: 0.3710 - accuracy: 0.8476\n",
      "Epoch 439/500\n",
      "28/28 [==============================] - 0s 6ms/step - loss: 0.3849 - accuracy: 0.8293\n",
      "Epoch 440/500\n",
      "28/28 [==============================] - 0s 5ms/step - loss: 0.3792 - accuracy: 0.8567\n",
      "Epoch 441/500\n",
      "28/28 [==============================] - 0s 5ms/step - loss: 0.3775 - accuracy: 0.8372\n",
      "Epoch 442/500\n",
      "28/28 [==============================] - 0s 6ms/step - loss: 0.4124 - accuracy: 0.8264\n",
      "Epoch 443/500\n",
      "28/28 [==============================] - 0s 6ms/step - loss: 0.3791 - accuracy: 0.8561\n",
      "Epoch 444/500\n",
      "28/28 [==============================] - 0s 6ms/step - loss: 0.3789 - accuracy: 0.8374\n",
      "Epoch 445/500\n",
      "28/28 [==============================] - 0s 7ms/step - loss: 0.4154 - accuracy: 0.8218\n",
      "Epoch 446/500\n",
      "28/28 [==============================] - 0s 7ms/step - loss: 0.4097 - accuracy: 0.8362\n",
      "Epoch 447/500\n",
      "28/28 [==============================] - 0s 6ms/step - loss: 0.3500 - accuracy: 0.8694\n",
      "Epoch 448/500\n",
      "28/28 [==============================] - 0s 6ms/step - loss: 0.3875 - accuracy: 0.8484\n",
      "Epoch 449/500\n",
      "28/28 [==============================] - 0s 6ms/step - loss: 0.3897 - accuracy: 0.8325\n",
      "Epoch 450/500\n",
      "28/28 [==============================] - 0s 6ms/step - loss: 0.3686 - accuracy: 0.8514\n",
      "Epoch 451/500\n",
      "28/28 [==============================] - 0s 6ms/step - loss: 0.3575 - accuracy: 0.8703\n",
      "Epoch 452/500\n",
      "28/28 [==============================] - 0s 6ms/step - loss: 0.3902 - accuracy: 0.8484\n",
      "Epoch 453/500\n",
      "28/28 [==============================] - 0s 8ms/step - loss: 0.3514 - accuracy: 0.8663\n",
      "Epoch 454/500\n",
      "28/28 [==============================] - 0s 7ms/step - loss: 0.3745 - accuracy: 0.8585\n",
      "Epoch 455/500\n",
      "28/28 [==============================] - 0s 6ms/step - loss: 0.3975 - accuracy: 0.8396\n",
      "Epoch 456/500\n",
      "28/28 [==============================] - 0s 6ms/step - loss: 0.4178 - accuracy: 0.8224\n",
      "Epoch 457/500\n",
      "28/28 [==============================] - 0s 7ms/step - loss: 0.3920 - accuracy: 0.8393\n",
      "Epoch 458/500\n",
      "28/28 [==============================] - 0s 7ms/step - loss: 0.3874 - accuracy: 0.8325\n",
      "Epoch 459/500\n",
      "28/28 [==============================] - 0s 6ms/step - loss: 0.3864 - accuracy: 0.8467\n",
      "Epoch 460/500\n",
      "28/28 [==============================] - 0s 6ms/step - loss: 0.3761 - accuracy: 0.8456\n",
      "Epoch 461/500\n",
      "28/28 [==============================] - 0s 6ms/step - loss: 0.3848 - accuracy: 0.8571\n",
      "Epoch 462/500\n",
      "28/28 [==============================] - 0s 6ms/step - loss: 0.4031 - accuracy: 0.8408\n",
      "Epoch 463/500\n",
      "28/28 [==============================] - 0s 6ms/step - loss: 0.3850 - accuracy: 0.8455\n",
      "Epoch 464/500\n",
      "28/28 [==============================] - 0s 6ms/step - loss: 0.3774 - accuracy: 0.8512\n",
      "Epoch 465/500\n",
      "28/28 [==============================] - 0s 6ms/step - loss: 0.4241 - accuracy: 0.8159\n",
      "Epoch 466/500\n",
      "28/28 [==============================] - 0s 5ms/step - loss: 0.3918 - accuracy: 0.8320\n",
      "Epoch 467/500\n",
      "28/28 [==============================] - 0s 6ms/step - loss: 0.3827 - accuracy: 0.8478\n",
      "Epoch 468/500\n",
      "28/28 [==============================] - 0s 6ms/step - loss: 0.3766 - accuracy: 0.8464\n",
      "Epoch 469/500\n",
      "28/28 [==============================] - 0s 6ms/step - loss: 0.3200 - accuracy: 0.8867\n",
      "Epoch 470/500\n",
      "28/28 [==============================] - 0s 6ms/step - loss: 0.3612 - accuracy: 0.8474\n",
      "Epoch 471/500\n",
      "28/28 [==============================] - 0s 6ms/step - loss: 0.4028 - accuracy: 0.8391\n",
      "Epoch 472/500\n",
      "28/28 [==============================] - 0s 6ms/step - loss: 0.3692 - accuracy: 0.8481\n",
      "Epoch 473/500\n",
      "28/28 [==============================] - 0s 6ms/step - loss: 0.3745 - accuracy: 0.8512\n",
      "Epoch 474/500\n",
      "28/28 [==============================] - 0s 6ms/step - loss: 0.3706 - accuracy: 0.8481\n",
      "Epoch 475/500\n",
      "28/28 [==============================] - 0s 6ms/step - loss: 0.4053 - accuracy: 0.8265\n",
      "Epoch 476/500\n",
      "28/28 [==============================] - 0s 6ms/step - loss: 0.3924 - accuracy: 0.8488\n",
      "Epoch 477/500\n",
      "28/28 [==============================] - 0s 6ms/step - loss: 0.3825 - accuracy: 0.8475\n",
      "Epoch 478/500\n",
      "28/28 [==============================] - 0s 6ms/step - loss: 0.3657 - accuracy: 0.8572\n",
      "Epoch 479/500\n",
      "28/28 [==============================] - 0s 6ms/step - loss: 0.3998 - accuracy: 0.8345\n",
      "Epoch 480/500\n",
      "28/28 [==============================] - 0s 6ms/step - loss: 0.3886 - accuracy: 0.8466\n",
      "Epoch 481/500\n",
      "28/28 [==============================] - 0s 6ms/step - loss: 0.4015 - accuracy: 0.8305\n",
      "Epoch 482/500\n",
      "28/28 [==============================] - 0s 6ms/step - loss: 0.3856 - accuracy: 0.8400\n",
      "Epoch 483/500\n",
      "28/28 [==============================] - 0s 6ms/step - loss: 0.3860 - accuracy: 0.8421\n",
      "Epoch 484/500\n",
      "28/28 [==============================] - 0s 6ms/step - loss: 0.3451 - accuracy: 0.8686\n",
      "Epoch 485/500\n"
     ]
    },
    {
     "name": "stdout",
     "output_type": "stream",
     "text": [
      "28/28 [==============================] - 0s 5ms/step - loss: 0.3972 - accuracy: 0.8359\n",
      "Epoch 486/500\n",
      "28/28 [==============================] - 0s 5ms/step - loss: 0.3555 - accuracy: 0.8639\n",
      "Epoch 487/500\n",
      "28/28 [==============================] - 0s 5ms/step - loss: 0.4011 - accuracy: 0.8295\n",
      "Epoch 488/500\n",
      "28/28 [==============================] - 0s 5ms/step - loss: 0.3952 - accuracy: 0.8309\n",
      "Epoch 489/500\n",
      "28/28 [==============================] - 0s 5ms/step - loss: 0.4101 - accuracy: 0.8264\n",
      "Epoch 490/500\n",
      "28/28 [==============================] - 0s 5ms/step - loss: 0.3836 - accuracy: 0.8360\n",
      "Epoch 491/500\n",
      "28/28 [==============================] - 0s 5ms/step - loss: 0.3996 - accuracy: 0.8348\n",
      "Epoch 492/500\n",
      "28/28 [==============================] - 0s 5ms/step - loss: 0.4071 - accuracy: 0.8364\n",
      "Epoch 493/500\n",
      "28/28 [==============================] - 0s 5ms/step - loss: 0.3659 - accuracy: 0.8514\n",
      "Epoch 494/500\n",
      "28/28 [==============================] - 0s 5ms/step - loss: 0.3797 - accuracy: 0.8459\n",
      "Epoch 495/500\n",
      "28/28 [==============================] - 0s 5ms/step - loss: 0.4190 - accuracy: 0.8281\n",
      "Epoch 496/500\n",
      "28/28 [==============================] - 0s 5ms/step - loss: 0.4000 - accuracy: 0.8241\n",
      "Epoch 497/500\n",
      "28/28 [==============================] - 0s 5ms/step - loss: 0.4169 - accuracy: 0.8301\n",
      "Epoch 498/500\n",
      "28/28 [==============================] - 0s 5ms/step - loss: 0.3651 - accuracy: 0.8516\n",
      "Epoch 499/500\n",
      "28/28 [==============================] - 0s 5ms/step - loss: 0.3907 - accuracy: 0.8435\n",
      "Epoch 500/500\n",
      "28/28 [==============================] - 0s 5ms/step - loss: 0.3783 - accuracy: 0.8429\n"
     ]
    }
   ],
   "source": [
    "model.compile(optimizer=Adam(0.001),loss = binary_crossentropy, metrics = ['accuracy'])\n",
    "history = model.fit(x = x_train, y= y_train, epochs = 500,callbacks = rlp, verbose = 1)"
   ]
  },
  {
   "cell_type": "code",
   "execution_count": 151,
   "metadata": {},
   "outputs": [
    {
     "name": "stdout",
     "output_type": "stream",
     "text": [
      "              precision    recall  f1-score   support\n",
      "\n",
      "           0       0.75      0.75      0.75         8\n",
      "           1       0.80      0.80      0.80        10\n",
      "\n",
      "    accuracy                           0.78        18\n",
      "   macro avg       0.78      0.78      0.78        18\n",
      "weighted avg       0.78      0.78      0.78        18\n",
      "\n"
     ]
    }
   ],
   "source": [
    "y_pred = model.predict(x_test)\n",
    "y_pred = y_pred.round()\n",
    "ANN = classification_report(y_test,y_pred)\n",
    "print(ANN)"
   ]
  },
  {
   "cell_type": "markdown",
   "metadata": {},
   "source": [
    "## 6.Evaluating the models"
   ]
  },
  {
   "cell_type": "code",
   "execution_count": 152,
   "metadata": {},
   "outputs": [
    {
     "name": "stdout",
     "output_type": "stream",
     "text": [
      "Classification report for regression_model:-\n",
      "\n",
      "              precision    recall  f1-score   support\n",
      "\n",
      "           0       0.71      0.62      0.67         8\n",
      "           1       0.73      0.80      0.76        10\n",
      "\n",
      "    accuracy                           0.72        18\n",
      "   macro avg       0.72      0.71      0.71        18\n",
      "weighted avg       0.72      0.72      0.72        18\n",
      "\n",
      "Classification report for tree_model:-\n",
      "\n",
      "              precision    recall  f1-score   support\n",
      "\n",
      "           1       0.43      0.23      0.30        26\n",
      "           2       0.50      0.10      0.17        20\n",
      "           3       0.56      0.91      0.69        44\n",
      "\n",
      "    accuracy                           0.53        90\n",
      "   macro avg       0.49      0.41      0.39        90\n",
      "weighted avg       0.51      0.53      0.46        90\n",
      "\n",
      "Classification report for random_forest_model:-\n",
      "\n",
      "              precision    recall  f1-score   support\n",
      "\n",
      "           0       0.83      0.62      0.71         8\n",
      "           1       0.75      0.90      0.82        10\n",
      "\n",
      "    accuracy                           0.78        18\n",
      "   macro avg       0.79      0.76      0.77        18\n",
      "weighted avg       0.79      0.78      0.77        18\n",
      "\n",
      "Classification report for Artificial Neural Network:-\n",
      "\n",
      "              precision    recall  f1-score   support\n",
      "\n",
      "           0       0.75      0.75      0.75         8\n",
      "           1       0.80      0.80      0.80        10\n",
      "\n",
      "    accuracy                           0.78        18\n",
      "   macro avg       0.78      0.78      0.78        18\n",
      "weighted avg       0.78      0.78      0.78        18\n",
      "\n"
     ]
    }
   ],
   "source": [
    "print('Classification report for regression_model:-\\n')\n",
    "print(regression_model)\n",
    "print('Classification report for tree_model:-\\n')\n",
    "print(tree_model)\n",
    "print('Classification report for random_forest_model:-\\n')\n",
    "print(random_forest_model)\n",
    "print('Classification report for Artificial Neural Network:-\\n')\n",
    "print(ANN)"
   ]
  },
  {
   "cell_type": "code",
   "execution_count": null,
   "metadata": {},
   "outputs": [],
   "source": []
  }
 ],
 "metadata": {
  "kernelspec": {
   "display_name": "GPU",
   "language": "python",
   "name": "gpu"
  },
  "language_info": {
   "codemirror_mode": {
    "name": "ipython",
    "version": 3
   },
   "file_extension": ".py",
   "mimetype": "text/x-python",
   "name": "python",
   "nbconvert_exporter": "python",
   "pygments_lexer": "ipython3",
   "version": "3.8.8"
  }
 },
 "nbformat": 4,
 "nbformat_minor": 4
}
